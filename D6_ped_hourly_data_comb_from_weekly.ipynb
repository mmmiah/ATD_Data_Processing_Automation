{
 "cells": [
  {
   "cell_type": "code",
   "execution_count": 1,
   "id": "8b3271d6-a802-4583-97fd-281b81cee927",
   "metadata": {},
   "outputs": [
    {
     "name": "stderr",
     "output_type": "stream",
     "text": [
      "C:\\Users\\s160555\\AppData\\Local\\anaconda3\\envs\\geo_env\\Lib\\site-packages\\fuzzywuzzy\\fuzz.py:11: UserWarning: Using slow pure-python SequenceMatcher. Install python-Levenshtein to remove this warning\n",
      "  warnings.warn('Using slow pure-python SequenceMatcher. Install python-Levenshtein to remove this warning')\n"
     ]
    }
   ],
   "source": [
    "# import the library\n",
    "import pandas as pd\n",
    "import numpy as np\n",
    "import os\n",
    "import glob\n",
    "from fuzzywuzzy import process"
   ]
  },
  {
   "cell_type": "code",
   "execution_count": 2,
   "id": "fd3f0821-f887-46d1-b318-1baa2448a74f",
   "metadata": {},
   "outputs": [
    {
     "data": {
      "text/html": [
       "<div>\n",
       "<style scoped>\n",
       "    .dataframe tbody tr th:only-of-type {\n",
       "        vertical-align: middle;\n",
       "    }\n",
       "\n",
       "    .dataframe tbody tr th {\n",
       "        vertical-align: top;\n",
       "    }\n",
       "\n",
       "    .dataframe thead th {\n",
       "        text-align: right;\n",
       "    }\n",
       "</style>\n",
       "<table border=\"1\" class=\"dataframe\">\n",
       "  <thead>\n",
       "    <tr style=\"text-align: right;\">\n",
       "      <th></th>\n",
       "      <th>Date</th>\n",
       "      <th>Direction</th>\n",
       "      <th>Intersection</th>\n",
       "      <th>Count</th>\n",
       "    </tr>\n",
       "  </thead>\n",
       "  <tbody>\n",
       "    <tr>\n",
       "      <th>0</th>\n",
       "      <td>2024-09-15 00:00:00</td>\n",
       "      <td>Westbound</td>\n",
       "      <td>SR 201 &amp; 18th Ave</td>\n",
       "      <td>0.0</td>\n",
       "    </tr>\n",
       "    <tr>\n",
       "      <th>1</th>\n",
       "      <td>2024-09-15 01:00:00</td>\n",
       "      <td>Westbound</td>\n",
       "      <td>SR 201 &amp; 18th Ave</td>\n",
       "      <td>0.0</td>\n",
       "    </tr>\n",
       "    <tr>\n",
       "      <th>2</th>\n",
       "      <td>2024-09-15 02:00:00</td>\n",
       "      <td>Westbound</td>\n",
       "      <td>SR 201 &amp; 18th Ave</td>\n",
       "      <td>1.0</td>\n",
       "    </tr>\n",
       "    <tr>\n",
       "      <th>3</th>\n",
       "      <td>2024-09-15 03:00:00</td>\n",
       "      <td>Westbound</td>\n",
       "      <td>SR 201 &amp; 18th Ave</td>\n",
       "      <td>0.0</td>\n",
       "    </tr>\n",
       "    <tr>\n",
       "      <th>4</th>\n",
       "      <td>2024-09-15 04:00:00</td>\n",
       "      <td>Westbound</td>\n",
       "      <td>SR 201 &amp; 18th Ave</td>\n",
       "      <td>0.0</td>\n",
       "    </tr>\n",
       "  </tbody>\n",
       "</table>\n",
       "</div>"
      ],
      "text/plain": [
       "                 Date  Direction       Intersection  Count\n",
       "0 2024-09-15 00:00:00  Westbound  SR 201 & 18th Ave    0.0\n",
       "1 2024-09-15 01:00:00  Westbound  SR 201 & 18th Ave    0.0\n",
       "2 2024-09-15 02:00:00  Westbound  SR 201 & 18th Ave    1.0\n",
       "3 2024-09-15 03:00:00  Westbound  SR 201 & 18th Ave    0.0\n",
       "4 2024-09-15 04:00:00  Westbound  SR 201 & 18th Ave    0.0"
      ]
     },
     "execution_count": 2,
     "metadata": {},
     "output_type": "execute_result"
    }
   ],
   "source": [
    "# Define the directory containing the pedestrian data\n",
    "ped_dir = 'Z:/AT Data/Data_to_be_processed/Pedestrian Location ID/'\n",
    "\n",
    "# Initialize a list to store the filtered and combined DataFrames\n",
    "agg = []\n",
    "\n",
    "# Define the direction extraction function\n",
    "def extract_direction(filename):\n",
    "    directions = ['North', 'South', 'East', 'West']\n",
    "    for direction in directions:\n",
    "        if direction.lower() in filename.lower():  # Case-insensitive match\n",
    "            return direction\n",
    "    return 'Unknown'\n",
    "\n",
    "# Traverse the directories recursively for pedestrian data\n",
    "for intersection_name in os.listdir(ped_dir):\n",
    "    intersection_path = os.path.join(ped_dir, intersection_name)\n",
    "    if os.path.isdir(intersection_path):\n",
    "        for folder_level_2 in os.listdir(intersection_path):\n",
    "            level_2_path = os.path.join(intersection_path, folder_level_2)\n",
    "            if os.path.isdir(level_2_path):\n",
    "                for folder_level_3 in os.listdir(level_2_path):\n",
    "                    level_3_path = os.path.join(level_2_path, folder_level_3)\n",
    "                    if os.path.isdir(level_3_path):\n",
    "                        for file in os.listdir(level_3_path):\n",
    "                            if file.endswith('.csv'):\n",
    "                                file_path = os.path.join(level_3_path, file)\n",
    "                                \n",
    "                                # Extract the direction from the filename\n",
    "                                filename = os.path.basename(file)\n",
    "                                direction = extract_direction(filename)\n",
    "                                \n",
    "                                # Read the CSV file with error handling\n",
    "                                try:\n",
    "                                    df = pd.read_csv(file_path)\n",
    "                                except Exception as e:\n",
    "                                    print(f\"Error reading {file_path}: {e}\")\n",
    "                                    continue\n",
    "                                \n",
    "                                # Clean the column names (if Excel exports)\n",
    "                                df.columns = df.columns.str.replace(r'=T\\(\"([^\"]+)\"\\)', r'\\1', regex=True)\n",
    "                                \n",
    "                                # Select only expected columns\n",
    "                                expected_columns = ['Date', 'Northbound', 'Southbound', 'Eastbound', 'Westbound']\n",
    "                                df = df[[col for col in expected_columns if col in df.columns]]\n",
    "                                \n",
    "                                # Add required \"Direction\" and \"Intersection\" columns\n",
    "                                df[\"Direction\"] = direction\n",
    "                                df[\"Intersection\"] = intersection_name\n",
    "                                agg.append(df)\n",
    "\n",
    "# Combine all the filtered DataFrames into one\n",
    "com_df = pd.concat(agg, ignore_index=True)\n",
    "\n",
    "# Handle NaN values and ensure numeric type\n",
    "com_df[['Southbound', 'Northbound', 'Eastbound', 'Westbound']] = (\n",
    "    com_df[['Southbound', 'Northbound', 'Eastbound', 'Westbound']]\n",
    "    .fillna(0)\n",
    "    .apply(pd.to_numeric, errors='coerce')\n",
    ")\n",
    "\n",
    "# Calculate the total count and drop directional flows\n",
    "com_df['Count'] = com_df[['Southbound', 'Northbound', 'Eastbound', 'Westbound']].sum(axis=1)\n",
    "com_df.drop(['Southbound', 'Northbound', 'Eastbound', 'Westbound'], axis=1, inplace=True)\n",
    "\n",
    "# Rename \"Direction\" to the correct bound\n",
    "direction_map = {'East': 'Westbound', 'West': 'Eastbound', 'North': 'Southbound', 'South': 'Northbound'}\n",
    "com_df['Direction'] = com_df['Direction'].map(direction_map).fillna(com_df['Direction'])\n",
    "com_df['Date'] = com_df['Date'].str.extract(r'(\\d{2}/\\d{2}/\\d{4} \\d{2}:\\d{2}:\\d{2})')[0]\n",
    "com_df['Date'] = pd.to_datetime(com_df['Date'])\n",
    "\n",
    "# Display the first few rows\n",
    "com_df.head()"
   ]
  },
  {
   "cell_type": "code",
   "execution_count": 3,
   "id": "4007fe62-b529-495f-9fce-e34784a910fb",
   "metadata": {},
   "outputs": [
    {
     "data": {
      "text/plain": [
       "Date            0\n",
       "Direction       0\n",
       "Intersection    0\n",
       "Count           0\n",
       "dtype: int64"
      ]
     },
     "execution_count": 3,
     "metadata": {},
     "output_type": "execute_result"
    }
   ],
   "source": [
    "com_df.isnull().sum()"
   ]
  },
  {
   "cell_type": "code",
   "execution_count": 4,
   "id": "69198641-3757-463e-83b8-d3228cd93a23",
   "metadata": {},
   "outputs": [
    {
     "data": {
      "text/plain": [
       "(15840, 4)"
      ]
     },
     "execution_count": 4,
     "metadata": {},
     "output_type": "execute_result"
    }
   ],
   "source": [
    "com_df.shape"
   ]
  },
  {
   "cell_type": "code",
   "execution_count": 5,
   "id": "21571ddf-b745-4bf7-8030-69ec649e0379",
   "metadata": {},
   "outputs": [
    {
     "name": "stderr",
     "output_type": "stream",
     "text": [
      "C:\\Users\\s160555\\AppData\\Local\\Temp\\ipykernel_15908\\3438743607.py:7: SettingWithCopyWarning: \n",
      "A value is trying to be set on a copy of a slice from a DataFrame.\n",
      "Try using .loc[row_indexer,col_indexer] = value instead\n",
      "\n",
      "See the caveats in the documentation: https://pandas.pydata.org/pandas-docs/stable/user_guide/indexing.html#returning-a-view-versus-a-copy\n",
      "  meta_data6['District'] = meta_data6['ID'].astype(str).str[0].astype(int)\n"
     ]
    },
    {
     "data": {
      "text/html": [
       "<div>\n",
       "<style scoped>\n",
       "    .dataframe tbody tr th:only-of-type {\n",
       "        vertical-align: middle;\n",
       "    }\n",
       "\n",
       "    .dataframe tbody tr th {\n",
       "        vertical-align: top;\n",
       "    }\n",
       "\n",
       "    .dataframe thead th {\n",
       "        text-align: right;\n",
       "    }\n",
       "</style>\n",
       "<table border=\"1\" class=\"dataframe\">\n",
       "  <thead>\n",
       "    <tr style=\"text-align: right;\">\n",
       "      <th></th>\n",
       "      <th>ID</th>\n",
       "      <th>Intersection Description</th>\n",
       "      <th>District</th>\n",
       "    </tr>\n",
       "  </thead>\n",
       "  <tbody>\n",
       "    <tr>\n",
       "      <th>0</th>\n",
       "      <td>6001</td>\n",
       "      <td>SR 201 &amp; 18th Ave</td>\n",
       "      <td>6</td>\n",
       "    </tr>\n",
       "  </tbody>\n",
       "</table>\n",
       "</div>"
      ],
      "text/plain": [
       "     ID Intersection Description  District\n",
       "0  6001        SR 201 & 18th Ave         6"
      ]
     },
     "execution_count": 5,
     "metadata": {},
     "output_type": "execute_result"
    }
   ],
   "source": [
    "# read the meta data\n",
    "meta_data_path6=pd.read_excel(r'Z:/AT Data/Data_to_be_processed/DATA LOCATION GUIDE.xlsx',sheet_name='D6')\n",
    "meta_data6=meta_data_path6[['ID','Intersection Description']]\n",
    "# meta_data_path3=pd.read_excel(r'Z:/AT Data/Data_to_be_processed/DATA LOCATION GUIDE.xlsx',sheet_name='D3')\n",
    "# meta_data3=meta_data_path3[['ID','Intersection Description']]\n",
    "# meta_data34=pd.concat([meta_data3,meta_data4])\n",
    "meta_data6['District'] = meta_data6['ID'].astype(str).str[0].astype(int)\n",
    "meta_data6.head()"
   ]
  },
  {
   "cell_type": "code",
   "execution_count": 6,
   "id": "54ca39f4-aff5-422e-9703-064b23ffcfaf",
   "metadata": {},
   "outputs": [
    {
     "data": {
      "text/html": [
       "<div>\n",
       "<style scoped>\n",
       "    .dataframe tbody tr th:only-of-type {\n",
       "        vertical-align: middle;\n",
       "    }\n",
       "\n",
       "    .dataframe tbody tr th {\n",
       "        vertical-align: top;\n",
       "    }\n",
       "\n",
       "    .dataframe thead th {\n",
       "        text-align: right;\n",
       "    }\n",
       "</style>\n",
       "<table border=\"1\" class=\"dataframe\">\n",
       "  <thead>\n",
       "    <tr style=\"text-align: right;\">\n",
       "      <th></th>\n",
       "      <th>Date</th>\n",
       "      <th>Direction</th>\n",
       "      <th>Intersection</th>\n",
       "      <th>Count</th>\n",
       "      <th>ID</th>\n",
       "      <th>Intersection Description</th>\n",
       "      <th>District</th>\n",
       "    </tr>\n",
       "  </thead>\n",
       "  <tbody>\n",
       "    <tr>\n",
       "      <th>0</th>\n",
       "      <td>2024-09-15 00:00:00</td>\n",
       "      <td>Westbound</td>\n",
       "      <td>SR 201 &amp; 18th Ave</td>\n",
       "      <td>0.0</td>\n",
       "      <td>6001</td>\n",
       "      <td>SR 201 &amp; 18th Ave</td>\n",
       "      <td>6</td>\n",
       "    </tr>\n",
       "    <tr>\n",
       "      <th>1</th>\n",
       "      <td>2024-09-15 01:00:00</td>\n",
       "      <td>Westbound</td>\n",
       "      <td>SR 201 &amp; 18th Ave</td>\n",
       "      <td>0.0</td>\n",
       "      <td>6001</td>\n",
       "      <td>SR 201 &amp; 18th Ave</td>\n",
       "      <td>6</td>\n",
       "    </tr>\n",
       "    <tr>\n",
       "      <th>2</th>\n",
       "      <td>2024-09-15 02:00:00</td>\n",
       "      <td>Westbound</td>\n",
       "      <td>SR 201 &amp; 18th Ave</td>\n",
       "      <td>1.0</td>\n",
       "      <td>6001</td>\n",
       "      <td>SR 201 &amp; 18th Ave</td>\n",
       "      <td>6</td>\n",
       "    </tr>\n",
       "    <tr>\n",
       "      <th>3</th>\n",
       "      <td>2024-09-15 03:00:00</td>\n",
       "      <td>Westbound</td>\n",
       "      <td>SR 201 &amp; 18th Ave</td>\n",
       "      <td>0.0</td>\n",
       "      <td>6001</td>\n",
       "      <td>SR 201 &amp; 18th Ave</td>\n",
       "      <td>6</td>\n",
       "    </tr>\n",
       "    <tr>\n",
       "      <th>4</th>\n",
       "      <td>2024-09-15 04:00:00</td>\n",
       "      <td>Westbound</td>\n",
       "      <td>SR 201 &amp; 18th Ave</td>\n",
       "      <td>0.0</td>\n",
       "      <td>6001</td>\n",
       "      <td>SR 201 &amp; 18th Ave</td>\n",
       "      <td>6</td>\n",
       "    </tr>\n",
       "  </tbody>\n",
       "</table>\n",
       "</div>"
      ],
      "text/plain": [
       "                 Date  Direction       Intersection  Count    ID  \\\n",
       "0 2024-09-15 00:00:00  Westbound  SR 201 & 18th Ave    0.0  6001   \n",
       "1 2024-09-15 01:00:00  Westbound  SR 201 & 18th Ave    0.0  6001   \n",
       "2 2024-09-15 02:00:00  Westbound  SR 201 & 18th Ave    1.0  6001   \n",
       "3 2024-09-15 03:00:00  Westbound  SR 201 & 18th Ave    0.0  6001   \n",
       "4 2024-09-15 04:00:00  Westbound  SR 201 & 18th Ave    0.0  6001   \n",
       "\n",
       "  Intersection Description  District  \n",
       "0        SR 201 & 18th Ave         6  \n",
       "1        SR 201 & 18th Ave         6  \n",
       "2        SR 201 & 18th Ave         6  \n",
       "3        SR 201 & 18th Ave         6  \n",
       "4        SR 201 & 18th Ave         6  "
      ]
     },
     "execution_count": 6,
     "metadata": {},
     "output_type": "execute_result"
    }
   ],
   "source": [
    "com_df1=pd.merge(com_df,meta_data6, left_on=['Intersection'], right_on=['Intersection Description'], how='inner')\n",
    "com_df1.head()"
   ]
  },
  {
   "cell_type": "code",
   "execution_count": 7,
   "id": "89deea9d-8846-40af-b1c7-234510fac10a",
   "metadata": {},
   "outputs": [
    {
     "data": {
      "text/plain": [
       "Date                        0\n",
       "Direction                   0\n",
       "Intersection                0\n",
       "Count                       0\n",
       "ID                          0\n",
       "Intersection Description    0\n",
       "District                    0\n",
       "dtype: int64"
      ]
     },
     "execution_count": 7,
     "metadata": {},
     "output_type": "execute_result"
    }
   ],
   "source": [
    "com_df1.isnull().sum()"
   ]
  },
  {
   "cell_type": "code",
   "execution_count": 8,
   "id": "ad715e3e-8693-4551-9c16-62163966bdc1",
   "metadata": {},
   "outputs": [
    {
     "data": {
      "text/plain": [
       "(15840, 7)"
      ]
     },
     "execution_count": 8,
     "metadata": {},
     "output_type": "execute_result"
    }
   ],
   "source": [
    "com_df1.shape"
   ]
  },
  {
   "cell_type": "code",
   "execution_count": 9,
   "id": "e6bb322b-4328-4e43-8669-4a3e5acc60fb",
   "metadata": {},
   "outputs": [],
   "source": [
    "# # now join with intersection details \n",
    "# if 'Intersection Description' in meta_data34.columns:\n",
    "#     intersection_names=meta_data34['Intersection Description'].tolist()\n",
    "\n",
    "#     def match_intersection(name):\n",
    "#         match, score = process.extractOne(name, intersection_names)  # Find best match\n",
    "#         return match if score > 50 else None \n",
    "#             # Apply matching function to the final_df\n",
    "#     com_df['Matched_Intersection'] = com_df['Intersection'].apply(match_intersection)\n",
    "\n",
    "#     # Merge with intersection description data\n",
    "#     com_df = com_df.merge(meta_data34, left_on='Matched_Intersection', right_on='Intersection Description', how='inner')\n",
    "\n",
    "# else:\n",
    "#     print(\"Error: 'Intersection Description' column not found in the intersection description file.\")\n",
    "# com_df.head()"
   ]
  },
  {
   "cell_type": "code",
   "execution_count": 10,
   "id": "21a2b427-1eae-4858-978c-8169857ad832",
   "metadata": {},
   "outputs": [
    {
     "data": {
      "text/plain": [
       "(15840, 4)"
      ]
     },
     "execution_count": 10,
     "metadata": {},
     "output_type": "execute_result"
    }
   ],
   "source": [
    "com_df.shape"
   ]
  },
  {
   "cell_type": "code",
   "execution_count": 11,
   "id": "448a2fd3-8869-4ba6-b590-96720e008d3e",
   "metadata": {},
   "outputs": [
    {
     "data": {
      "text/html": [
       "<div>\n",
       "<style scoped>\n",
       "    .dataframe tbody tr th:only-of-type {\n",
       "        vertical-align: middle;\n",
       "    }\n",
       "\n",
       "    .dataframe tbody tr th {\n",
       "        vertical-align: top;\n",
       "    }\n",
       "\n",
       "    .dataframe thead th {\n",
       "        text-align: right;\n",
       "    }\n",
       "</style>\n",
       "<table border=\"1\" class=\"dataframe\">\n",
       "  <thead>\n",
       "    <tr style=\"text-align: right;\">\n",
       "      <th></th>\n",
       "      <th>Date</th>\n",
       "      <th>Direction</th>\n",
       "      <th>Loc_id</th>\n",
       "      <th>Intersection</th>\n",
       "      <th>District</th>\n",
       "      <th>Count</th>\n",
       "    </tr>\n",
       "  </thead>\n",
       "  <tbody>\n",
       "    <tr>\n",
       "      <th>0</th>\n",
       "      <td>2024-09-15 00:00:00</td>\n",
       "      <td>Westbound</td>\n",
       "      <td>6001</td>\n",
       "      <td>SR 201 &amp; 18th Ave</td>\n",
       "      <td>6</td>\n",
       "      <td>0.0</td>\n",
       "    </tr>\n",
       "    <tr>\n",
       "      <th>1</th>\n",
       "      <td>2024-09-15 01:00:00</td>\n",
       "      <td>Westbound</td>\n",
       "      <td>6001</td>\n",
       "      <td>SR 201 &amp; 18th Ave</td>\n",
       "      <td>6</td>\n",
       "      <td>0.0</td>\n",
       "    </tr>\n",
       "    <tr>\n",
       "      <th>2</th>\n",
       "      <td>2024-09-15 02:00:00</td>\n",
       "      <td>Westbound</td>\n",
       "      <td>6001</td>\n",
       "      <td>SR 201 &amp; 18th Ave</td>\n",
       "      <td>6</td>\n",
       "      <td>1.0</td>\n",
       "    </tr>\n",
       "    <tr>\n",
       "      <th>3</th>\n",
       "      <td>2024-09-15 03:00:00</td>\n",
       "      <td>Westbound</td>\n",
       "      <td>6001</td>\n",
       "      <td>SR 201 &amp; 18th Ave</td>\n",
       "      <td>6</td>\n",
       "      <td>0.0</td>\n",
       "    </tr>\n",
       "    <tr>\n",
       "      <th>4</th>\n",
       "      <td>2024-09-15 04:00:00</td>\n",
       "      <td>Westbound</td>\n",
       "      <td>6001</td>\n",
       "      <td>SR 201 &amp; 18th Ave</td>\n",
       "      <td>6</td>\n",
       "      <td>0.0</td>\n",
       "    </tr>\n",
       "  </tbody>\n",
       "</table>\n",
       "</div>"
      ],
      "text/plain": [
       "                 Date  Direction  Loc_id       Intersection  District  Count\n",
       "0 2024-09-15 00:00:00  Westbound    6001  SR 201 & 18th Ave         6    0.0\n",
       "1 2024-09-15 01:00:00  Westbound    6001  SR 201 & 18th Ave         6    0.0\n",
       "2 2024-09-15 02:00:00  Westbound    6001  SR 201 & 18th Ave         6    1.0\n",
       "3 2024-09-15 03:00:00  Westbound    6001  SR 201 & 18th Ave         6    0.0\n",
       "4 2024-09-15 04:00:00  Westbound    6001  SR 201 & 18th Ave         6    0.0"
      ]
     },
     "execution_count": 11,
     "metadata": {},
     "output_type": "execute_result"
    }
   ],
   "source": [
    "# we will drop unnecessary columns\n",
    "com_df2=com_df1[['Date', 'Direction', 'ID', 'Intersection Description', 'District','Count']]\n",
    "com_df2=com_df2.rename(columns={'ID':'Loc_id','Intersection Description':'Intersection'})\n",
    "com_df2.head()"
   ]
  },
  {
   "cell_type": "code",
   "execution_count": 12,
   "id": "5cef28fa-7aaf-4331-b759-9454e07a3304",
   "metadata": {},
   "outputs": [
    {
     "data": {
      "text/html": [
       "<div>\n",
       "<style scoped>\n",
       "    .dataframe tbody tr th:only-of-type {\n",
       "        vertical-align: middle;\n",
       "    }\n",
       "\n",
       "    .dataframe tbody tr th {\n",
       "        vertical-align: top;\n",
       "    }\n",
       "\n",
       "    .dataframe thead th {\n",
       "        text-align: right;\n",
       "    }\n",
       "</style>\n",
       "<table border=\"1\" class=\"dataframe\">\n",
       "  <thead>\n",
       "    <tr style=\"text-align: right;\">\n",
       "      <th></th>\n",
       "      <th>Loc_id</th>\n",
       "      <th>District</th>\n",
       "      <th>Intersection</th>\n",
       "      <th>Year</th>\n",
       "      <th>Month</th>\n",
       "      <th>Day</th>\n",
       "      <th>Weekday_Type</th>\n",
       "      <th>Date</th>\n",
       "      <th>Hour</th>\n",
       "      <th>Mode</th>\n",
       "      <th>Direction</th>\n",
       "      <th>Count</th>\n",
       "    </tr>\n",
       "  </thead>\n",
       "  <tbody>\n",
       "    <tr>\n",
       "      <th>0</th>\n",
       "      <td>6001</td>\n",
       "      <td>6</td>\n",
       "      <td>SR 201 &amp; 18th Ave</td>\n",
       "      <td>2024</td>\n",
       "      <td>Sep</td>\n",
       "      <td>Sunday</td>\n",
       "      <td>Weekend</td>\n",
       "      <td>2024-09-15 00:00:00</td>\n",
       "      <td>12 AM</td>\n",
       "      <td>Pedestrian</td>\n",
       "      <td>Westbound</td>\n",
       "      <td>0.0</td>\n",
       "    </tr>\n",
       "    <tr>\n",
       "      <th>1</th>\n",
       "      <td>6001</td>\n",
       "      <td>6</td>\n",
       "      <td>SR 201 &amp; 18th Ave</td>\n",
       "      <td>2024</td>\n",
       "      <td>Sep</td>\n",
       "      <td>Sunday</td>\n",
       "      <td>Weekend</td>\n",
       "      <td>2024-09-15 01:00:00</td>\n",
       "      <td>1 AM</td>\n",
       "      <td>Pedestrian</td>\n",
       "      <td>Westbound</td>\n",
       "      <td>0.0</td>\n",
       "    </tr>\n",
       "    <tr>\n",
       "      <th>2</th>\n",
       "      <td>6001</td>\n",
       "      <td>6</td>\n",
       "      <td>SR 201 &amp; 18th Ave</td>\n",
       "      <td>2024</td>\n",
       "      <td>Sep</td>\n",
       "      <td>Sunday</td>\n",
       "      <td>Weekend</td>\n",
       "      <td>2024-09-15 02:00:00</td>\n",
       "      <td>2 AM</td>\n",
       "      <td>Pedestrian</td>\n",
       "      <td>Westbound</td>\n",
       "      <td>1.0</td>\n",
       "    </tr>\n",
       "    <tr>\n",
       "      <th>3</th>\n",
       "      <td>6001</td>\n",
       "      <td>6</td>\n",
       "      <td>SR 201 &amp; 18th Ave</td>\n",
       "      <td>2024</td>\n",
       "      <td>Sep</td>\n",
       "      <td>Sunday</td>\n",
       "      <td>Weekend</td>\n",
       "      <td>2024-09-15 03:00:00</td>\n",
       "      <td>3 AM</td>\n",
       "      <td>Pedestrian</td>\n",
       "      <td>Westbound</td>\n",
       "      <td>0.0</td>\n",
       "    </tr>\n",
       "    <tr>\n",
       "      <th>4</th>\n",
       "      <td>6001</td>\n",
       "      <td>6</td>\n",
       "      <td>SR 201 &amp; 18th Ave</td>\n",
       "      <td>2024</td>\n",
       "      <td>Sep</td>\n",
       "      <td>Sunday</td>\n",
       "      <td>Weekend</td>\n",
       "      <td>2024-09-15 04:00:00</td>\n",
       "      <td>4 AM</td>\n",
       "      <td>Pedestrian</td>\n",
       "      <td>Westbound</td>\n",
       "      <td>0.0</td>\n",
       "    </tr>\n",
       "  </tbody>\n",
       "</table>\n",
       "</div>"
      ],
      "text/plain": [
       "   Loc_id  District       Intersection  Year Month     Day Weekday_Type  \\\n",
       "0    6001         6  SR 201 & 18th Ave  2024   Sep  Sunday      Weekend   \n",
       "1    6001         6  SR 201 & 18th Ave  2024   Sep  Sunday      Weekend   \n",
       "2    6001         6  SR 201 & 18th Ave  2024   Sep  Sunday      Weekend   \n",
       "3    6001         6  SR 201 & 18th Ave  2024   Sep  Sunday      Weekend   \n",
       "4    6001         6  SR 201 & 18th Ave  2024   Sep  Sunday      Weekend   \n",
       "\n",
       "                 Date   Hour        Mode  Direction  Count  \n",
       "0 2024-09-15 00:00:00  12 AM  Pedestrian  Westbound    0.0  \n",
       "1 2024-09-15 01:00:00   1 AM  Pedestrian  Westbound    0.0  \n",
       "2 2024-09-15 02:00:00   2 AM  Pedestrian  Westbound    1.0  \n",
       "3 2024-09-15 03:00:00   3 AM  Pedestrian  Westbound    0.0  \n",
       "4 2024-09-15 04:00:00   4 AM  Pedestrian  Westbound    0.0  "
      ]
     },
     "execution_count": 12,
     "metadata": {},
     "output_type": "execute_result"
    }
   ],
   "source": [
    "# make sure the date is in date format to extract the temporal variable\n",
    "com_df2['Date'] = pd.to_datetime(com_df2['Date'], format=\"%m/%d/%Y %H:%M:%S\")\n",
    "\n",
    "# Extract year, month, day\n",
    "com_df2['Year'] = com_df2['Date'].dt.year\n",
    "com_df2['Month'] = com_df2['Date'].dt.strftime('%b') \n",
    "com_df2['Day'] = com_df2['Date'].dt.day_name()\n",
    "\n",
    "# Extract weekday name and check if it's a weekend\n",
    "com_df2['Weekday_Type'] = com_df2['Day'].apply(lambda x: \"Weekend\" if x in ['Saturday', 'Sunday'] else \"Weekday\")\n",
    "\n",
    "# Extract hour and AM/PM\n",
    "com_df2['Hour'] = com_df2['Date'].dt.strftime('%I %p').str.lstrip('0')\n",
    "com_df2['Mode']=\"Pedestrian\"\n",
    "com_df3=com_df2[['Loc_id','District','Intersection','Year', 'Month',\n",
    "       'Day','Weekday_Type','Date', 'Hour','Mode','Direction','Count']]\n",
    "com_df3.head()"
   ]
  },
  {
   "cell_type": "code",
   "execution_count": 13,
   "id": "0bf5be6d-b638-4fdd-a4e6-7fa9794a4286",
   "metadata": {},
   "outputs": [
    {
     "data": {
      "text/html": [
       "<div>\n",
       "<style scoped>\n",
       "    .dataframe tbody tr th:only-of-type {\n",
       "        vertical-align: middle;\n",
       "    }\n",
       "\n",
       "    .dataframe tbody tr th {\n",
       "        vertical-align: top;\n",
       "    }\n",
       "\n",
       "    .dataframe thead th {\n",
       "        text-align: right;\n",
       "    }\n",
       "</style>\n",
       "<table border=\"1\" class=\"dataframe\">\n",
       "  <thead>\n",
       "    <tr style=\"text-align: right;\">\n",
       "      <th></th>\n",
       "      <th>Date</th>\n",
       "      <th>Direction</th>\n",
       "      <th>Intersection</th>\n",
       "      <th>Count</th>\n",
       "    </tr>\n",
       "  </thead>\n",
       "  <tbody>\n",
       "  </tbody>\n",
       "</table>\n",
       "</div>"
      ],
      "text/plain": [
       "Empty DataFrame\n",
       "Columns: [Date, Direction, Intersection, Count]\n",
       "Index: []"
      ]
     },
     "execution_count": 13,
     "metadata": {},
     "output_type": "execute_result"
    }
   ],
   "source": [
    "# Filter the DataFrame for rows where 'Year' is NaN\n",
    "missing_year_df = com_df[pd.isna(com_df['Date'])]\n",
    "missing_year_df "
   ]
  },
  {
   "cell_type": "code",
   "execution_count": 14,
   "id": "4da4ba58-3c5c-4811-9ea3-1ed5c6af8800",
   "metadata": {},
   "outputs": [
    {
     "data": {
      "text/plain": [
       "(15840, 12)"
      ]
     },
     "execution_count": 14,
     "metadata": {},
     "output_type": "execute_result"
    }
   ],
   "source": [
    "# Check the duplicate values and drop it\n",
    "com_df4=com_df3.drop_duplicates(subset=['Loc_id','District','Intersection','Year', 'Month',\n",
    "       'Day','Weekday_Type','Date', 'Hour','Mode','Direction','Count'])\n",
    "com_df4=com_df4.dropna(subset=['Year'])\n",
    "com_df4.shape"
   ]
  },
  {
   "cell_type": "code",
   "execution_count": 15,
   "id": "c25da39e-682e-441e-9f9e-f434643f838d",
   "metadata": {},
   "outputs": [
    {
     "data": {
      "text/plain": [
       "Loc_id          0\n",
       "District        0\n",
       "Intersection    0\n",
       "Year            0\n",
       "Month           0\n",
       "Day             0\n",
       "Weekday_Type    0\n",
       "Date            0\n",
       "Hour            0\n",
       "Mode            0\n",
       "Direction       0\n",
       "Count           0\n",
       "dtype: int64"
      ]
     },
     "execution_count": 15,
     "metadata": {},
     "output_type": "execute_result"
    }
   ],
   "source": [
    "com_df4.isnull().sum()"
   ]
  },
  {
   "cell_type": "code",
   "execution_count": 16,
   "id": "be0b2836-e7d9-4b57-bc84-44592ba563f9",
   "metadata": {},
   "outputs": [
    {
     "data": {
      "text/plain": [
       "count    15840.000000\n",
       "mean         5.348990\n",
       "std         16.461383\n",
       "min          0.000000\n",
       "25%          0.000000\n",
       "50%          0.000000\n",
       "75%          3.000000\n",
       "max        186.000000\n",
       "Name: Count, dtype: float64"
      ]
     },
     "execution_count": 16,
     "metadata": {},
     "output_type": "execute_result"
    }
   ],
   "source": [
    "com_df4['Count'].describe()"
   ]
  },
  {
   "cell_type": "code",
   "execution_count": 17,
   "id": "1dadfe02-d780-45cc-8b9f-ba7dbc4d3170",
   "metadata": {},
   "outputs": [],
   "source": [
    "com_df4.to_csv('Z:/AT Data/Processed_data/D6_Ped/D6_ped_data_for_Tableau.csv')"
   ]
  },
  {
   "cell_type": "code",
   "execution_count": 18,
   "id": "480474e5-c026-4add-bd76-3f33db843bbb",
   "metadata": {},
   "outputs": [
    {
     "name": "stderr",
     "output_type": "stream",
     "text": [
      "C:\\Users\\s160555\\AppData\\Local\\Temp\\ipykernel_15908\\1890048495.py:3: SettingWithCopyWarning: \n",
      "A value is trying to be set on a copy of a slice from a DataFrame.\n",
      "Try using .loc[row_indexer,col_indexer] = value instead\n",
      "\n",
      "See the caveats in the documentation: https://pandas.pydata.org/pandas-docs/stable/user_guide/indexing.html#returning-a-view-versus-a-copy\n",
      "  ts['Count'] = ts['Count'].astype(int)\n"
     ]
    },
    {
     "data": {
      "text/html": [
       "<div>\n",
       "<style scoped>\n",
       "    .dataframe tbody tr th:only-of-type {\n",
       "        vertical-align: middle;\n",
       "    }\n",
       "\n",
       "    .dataframe tbody tr th {\n",
       "        vertical-align: top;\n",
       "    }\n",
       "\n",
       "    .dataframe thead th {\n",
       "        text-align: right;\n",
       "    }\n",
       "</style>\n",
       "<table border=\"1\" class=\"dataframe\">\n",
       "  <thead>\n",
       "    <tr style=\"text-align: right;\">\n",
       "      <th>Direction</th>\n",
       "      <th>Loc_id</th>\n",
       "      <th>Date</th>\n",
       "      <th>Time</th>\n",
       "      <th>Eastbound</th>\n",
       "      <th>Northbound</th>\n",
       "      <th>Southbound</th>\n",
       "      <th>Westbound</th>\n",
       "    </tr>\n",
       "  </thead>\n",
       "  <tbody>\n",
       "    <tr>\n",
       "      <th>0</th>\n",
       "      <td>6001</td>\n",
       "      <td>2024-09-08</td>\n",
       "      <td>1 AM</td>\n",
       "      <td>0.0</td>\n",
       "      <td>0.0</td>\n",
       "      <td>0.0</td>\n",
       "      <td>0.0</td>\n",
       "    </tr>\n",
       "    <tr>\n",
       "      <th>1</th>\n",
       "      <td>6001</td>\n",
       "      <td>2024-09-08</td>\n",
       "      <td>1 PM</td>\n",
       "      <td>0.0</td>\n",
       "      <td>0.0</td>\n",
       "      <td>0.0</td>\n",
       "      <td>0.0</td>\n",
       "    </tr>\n",
       "    <tr>\n",
       "      <th>2</th>\n",
       "      <td>6001</td>\n",
       "      <td>2024-09-08</td>\n",
       "      <td>10 AM</td>\n",
       "      <td>0.0</td>\n",
       "      <td>0.0</td>\n",
       "      <td>0.0</td>\n",
       "      <td>0.0</td>\n",
       "    </tr>\n",
       "    <tr>\n",
       "      <th>3</th>\n",
       "      <td>6001</td>\n",
       "      <td>2024-09-08</td>\n",
       "      <td>10 PM</td>\n",
       "      <td>0.0</td>\n",
       "      <td>0.0</td>\n",
       "      <td>0.0</td>\n",
       "      <td>0.0</td>\n",
       "    </tr>\n",
       "    <tr>\n",
       "      <th>4</th>\n",
       "      <td>6001</td>\n",
       "      <td>2024-09-08</td>\n",
       "      <td>11 AM</td>\n",
       "      <td>0.0</td>\n",
       "      <td>0.0</td>\n",
       "      <td>0.0</td>\n",
       "      <td>0.0</td>\n",
       "    </tr>\n",
       "  </tbody>\n",
       "</table>\n",
       "</div>"
      ],
      "text/plain": [
       "Direction  Loc_id        Date   Time  Eastbound  Northbound  Southbound  \\\n",
       "0            6001  2024-09-08   1 AM        0.0         0.0         0.0   \n",
       "1            6001  2024-09-08   1 PM        0.0         0.0         0.0   \n",
       "2            6001  2024-09-08  10 AM        0.0         0.0         0.0   \n",
       "3            6001  2024-09-08  10 PM        0.0         0.0         0.0   \n",
       "4            6001  2024-09-08  11 AM        0.0         0.0         0.0   \n",
       "\n",
       "Direction  Westbound  \n",
       "0                0.0  \n",
       "1                0.0  \n",
       "2                0.0  \n",
       "3                0.0  \n",
       "4                0.0  "
      ]
     },
     "execution_count": 18,
     "metadata": {},
     "output_type": "execute_result"
    }
   ],
   "source": [
    "# Lets extract the data for Traffic Census\n",
    "ts=com_df4[['Loc_id','Date', 'Hour','Direction','Count']]\n",
    "ts['Count'] = ts['Count'].astype(int)\n",
    "ts=ts.rename(columns={'Hour':'Time'})\n",
    "ts['Date'] = pd.to_datetime(ts['Date']).dt.date\n",
    "# Pivot the table\n",
    "pivoted_df = ts.pivot_table(index=['Loc_id','Date', 'Time'], columns='Direction', values='Count', fill_value=0)\n",
    "# Reset index to make it more readable\n",
    "pivoted_df = pivoted_df.reset_index()\n",
    "pivoted_df.head()"
   ]
  },
  {
   "cell_type": "code",
   "execution_count": 19,
   "id": "6bb80970-a9d1-431f-a8e6-890a1d70a6fd",
   "metadata": {},
   "outputs": [],
   "source": [
    "pivoted_df.to_csv('Z:/AT Data/Processed_data/D6_Ped/D6_ped_data_for_census.csv',index=False)"
   ]
  },
  {
   "cell_type": "code",
   "execution_count": null,
   "id": "fcf0a68d-0837-4a5d-b410-113e42074863",
   "metadata": {},
   "outputs": [],
   "source": [
    "# end of the script"
   ]
  }
 ],
 "metadata": {
  "kernelspec": {
   "display_name": "geo_env",
   "language": "python",
   "name": "geo_env"
  },
  "language_info": {
   "codemirror_mode": {
    "name": "ipython",
    "version": 3
   },
   "file_extension": ".py",
   "mimetype": "text/x-python",
   "name": "python",
   "nbconvert_exporter": "python",
   "pygments_lexer": "ipython3",
   "version": "3.12.5"
  },
  "widgets": {
   "application/vnd.jupyter.widget-state+json": {
    "state": {},
    "version_major": 2,
    "version_minor": 0
   }
  }
 },
 "nbformat": 4,
 "nbformat_minor": 5
}
