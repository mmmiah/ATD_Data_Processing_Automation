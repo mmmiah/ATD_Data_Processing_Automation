{
 "cells": [
  {
   "cell_type": "code",
   "execution_count": 1,
   "id": "9c76bc7c-302d-4c56-b333-6a809406235d",
   "metadata": {},
   "outputs": [
    {
     "name": "stderr",
     "output_type": "stream",
     "text": [
      "C:\\Users\\s160555\\AppData\\Local\\anaconda3\\envs\\geo_env\\Lib\\site-packages\\fuzzywuzzy\\fuzz.py:11: UserWarning: Using slow pure-python SequenceMatcher. Install python-Levenshtein to remove this warning\n",
      "  warnings.warn('Using slow pure-python SequenceMatcher. Install python-Levenshtein to remove this warning')\n"
     ]
    }
   ],
   "source": [
    "# import the library\n",
    "import pandas as pd\n",
    "import numpy as np\n",
    "import os\n",
    "import glob\n",
    "from fuzzywuzzy import process"
   ]
  },
  {
   "cell_type": "code",
   "execution_count": 2,
   "id": "e55fba3a-0613-4c7c-bd84-1f8175bfc77d",
   "metadata": {},
   "outputs": [
    {
     "data": {
      "text/html": [
       "<div>\n",
       "<style scoped>\n",
       "    .dataframe tbody tr th:only-of-type {\n",
       "        vertical-align: middle;\n",
       "    }\n",
       "\n",
       "    .dataframe tbody tr th {\n",
       "        vertical-align: top;\n",
       "    }\n",
       "\n",
       "    .dataframe thead th {\n",
       "        text-align: right;\n",
       "    }\n",
       "</style>\n",
       "<table border=\"1\" class=\"dataframe\">\n",
       "  <thead>\n",
       "    <tr style=\"text-align: right;\">\n",
       "      <th></th>\n",
       "      <th>=T(\"Date\")</th>\n",
       "      <th>=T(\"Bike Lane\")</th>\n",
       "      <th>Direction</th>\n",
       "      <th>Intersection</th>\n",
       "    </tr>\n",
       "  </thead>\n",
       "  <tbody>\n",
       "    <tr>\n",
       "      <th>0</th>\n",
       "      <td>=T(\"09/15/2024 00:00:00\")</td>\n",
       "      <td>2.0</td>\n",
       "      <td>Eastbound</td>\n",
       "      <td>SR 201 &amp; 18th Ave</td>\n",
       "    </tr>\n",
       "    <tr>\n",
       "      <th>1</th>\n",
       "      <td>=T(\"09/15/2024 01:00:00\")</td>\n",
       "      <td>1.0</td>\n",
       "      <td>Eastbound</td>\n",
       "      <td>SR 201 &amp; 18th Ave</td>\n",
       "    </tr>\n",
       "    <tr>\n",
       "      <th>2</th>\n",
       "      <td>=T(\"09/15/2024 02:00:00\")</td>\n",
       "      <td>6.0</td>\n",
       "      <td>Eastbound</td>\n",
       "      <td>SR 201 &amp; 18th Ave</td>\n",
       "    </tr>\n",
       "    <tr>\n",
       "      <th>3</th>\n",
       "      <td>=T(\"09/15/2024 03:00:00\")</td>\n",
       "      <td>0.0</td>\n",
       "      <td>Eastbound</td>\n",
       "      <td>SR 201 &amp; 18th Ave</td>\n",
       "    </tr>\n",
       "    <tr>\n",
       "      <th>4</th>\n",
       "      <td>=T(\"09/15/2024 04:00:00\")</td>\n",
       "      <td>3.0</td>\n",
       "      <td>Eastbound</td>\n",
       "      <td>SR 201 &amp; 18th Ave</td>\n",
       "    </tr>\n",
       "  </tbody>\n",
       "</table>\n",
       "</div>"
      ],
      "text/plain": [
       "                  =T(\"Date\")  =T(\"Bike Lane\")  Direction       Intersection\n",
       "0  =T(\"09/15/2024 00:00:00\")              2.0  Eastbound  SR 201 & 18th Ave\n",
       "1  =T(\"09/15/2024 01:00:00\")              1.0  Eastbound  SR 201 & 18th Ave\n",
       "2  =T(\"09/15/2024 02:00:00\")              6.0  Eastbound  SR 201 & 18th Ave\n",
       "3  =T(\"09/15/2024 03:00:00\")              0.0  Eastbound  SR 201 & 18th Ave\n",
       "4  =T(\"09/15/2024 04:00:00\")              3.0  Eastbound  SR 201 & 18th Ave"
      ]
     },
     "execution_count": 2,
     "metadata": {},
     "output_type": "execute_result"
    }
   ],
   "source": [
    "bike_dir = 'Z:/AT Data/Data_to_be_processed/Bicycle Location ID/'\n",
    "\n",
    "# Initialize a list to store the filtered and combined DataFrames\n",
    "combined_data = []\n",
    "\n",
    "# Traverse the directories recursively\n",
    "for intersection_name in os.listdir(bike_dir):\n",
    "    intersection_path = os.path.join(bike_dir, intersection_name)\n",
    "    if os.path.isdir(intersection_path):\n",
    "        for folder_level_2 in os.listdir(intersection_path):\n",
    "            level_2_path = os.path.join(intersection_path, folder_level_2)\n",
    "            if os.path.isdir(level_2_path):\n",
    "                for folder_level_3 in os.listdir(level_2_path):\n",
    "                    level_3_path = os.path.join(level_2_path, folder_level_3)\n",
    "                    if os.path.isdir(level_3_path):\n",
    "                        for file in os.listdir(level_3_path):\n",
    "                            if file.endswith('.csv'):\n",
    "                                file_path = os.path.join(level_3_path, file)\n",
    "\n",
    "                                # Determine the direction from the CSV filename\n",
    "                                if \"Southbound\" in file:\n",
    "                                    direction = \"Southbound\"\n",
    "                                elif \"South\" in file:\n",
    "                                    direction = \"Southbound\"\n",
    "                                elif \"Northbound\" in file:\n",
    "                                    direction = \"Northbound\"\n",
    "                                elif \"North\" in file:\n",
    "                                    direction = \"Northbound\"\n",
    "                                elif \"Westbound\" in file:\n",
    "                                    direction = \"Westbound\"\n",
    "                                elif \"West\" in file:\n",
    "                                    direction = \"Westbound\"\n",
    "                                elif \"Eastbound\" in file:\n",
    "                                    direction = \"Eastbound\"\n",
    "                                elif \"East\" in file:\n",
    "                                    direction = \"Eastbound\"\n",
    "                                else:\n",
    "                                    direction = \"Unknown\"\n",
    "\n",
    "                                # Read the CSV file\n",
    "                                df = pd.read_csv(file_path)\n",
    "                                # Step 2: Add required \"Direction\" and \"Intersection\" columns\n",
    "                                df[\"Direction\"] = direction\n",
    "                                df[\"Intersection\"] = intersection_name\n",
    "\n",
    "                                # Append the cleaned DataFrame to the list\n",
    "                                combined_data.append(df)\n",
    "\n",
    "# Step 3: Combine all the filtered DataFrames into one and ignore column mismatches\n",
    "final_combined_df = pd.concat(combined_data, ignore_index=True)\n",
    "final_combined_df.head()"
   ]
  },
  {
   "cell_type": "code",
   "execution_count": 5,
   "id": "a28caa8f-ed84-493d-a2ef-00002a2eb26b",
   "metadata": {},
   "outputs": [
    {
     "name": "stderr",
     "output_type": "stream",
     "text": [
      "C:\\Users\\s160555\\AppData\\Local\\Temp\\ipykernel_24724\\1330614553.py:10: SettingWithCopyWarning: \n",
      "A value is trying to be set on a copy of a slice from a DataFrame.\n",
      "Try using .loc[row_indexer,col_indexer] = value instead\n",
      "\n",
      "See the caveats in the documentation: https://pandas.pydata.org/pandas-docs/stable/user_guide/indexing.html#returning-a-view-versus-a-copy\n",
      "  final_combined_df1['Date'] = final_combined_df1['Date'].str.extract(r'(\\d{2}/\\d{2}/\\d{4} \\d{2}:\\d{2}:\\d{2})')[0]\n",
      "C:\\Users\\s160555\\AppData\\Local\\Temp\\ipykernel_24724\\1330614553.py:11: SettingWithCopyWarning: \n",
      "A value is trying to be set on a copy of a slice from a DataFrame.\n",
      "Try using .loc[row_indexer,col_indexer] = value instead\n",
      "\n",
      "See the caveats in the documentation: https://pandas.pydata.org/pandas-docs/stable/user_guide/indexing.html#returning-a-view-versus-a-copy\n",
      "  final_combined_df1['Date'] = pd.to_datetime(final_combined_df1['Date'])\n"
     ]
    },
    {
     "data": {
      "text/html": [
       "<div>\n",
       "<style scoped>\n",
       "    .dataframe tbody tr th:only-of-type {\n",
       "        vertical-align: middle;\n",
       "    }\n",
       "\n",
       "    .dataframe tbody tr th {\n",
       "        vertical-align: top;\n",
       "    }\n",
       "\n",
       "    .dataframe thead th {\n",
       "        text-align: right;\n",
       "    }\n",
       "</style>\n",
       "<table border=\"1\" class=\"dataframe\">\n",
       "  <thead>\n",
       "    <tr style=\"text-align: right;\">\n",
       "      <th></th>\n",
       "      <th>Date</th>\n",
       "      <th>Bike Lane</th>\n",
       "      <th>Direction</th>\n",
       "      <th>Intersection</th>\n",
       "    </tr>\n",
       "  </thead>\n",
       "  <tbody>\n",
       "    <tr>\n",
       "      <th>0</th>\n",
       "      <td>2024-09-15 00:00:00</td>\n",
       "      <td>2.0</td>\n",
       "      <td>Eastbound</td>\n",
       "      <td>SR 201 &amp; 18th Ave</td>\n",
       "    </tr>\n",
       "    <tr>\n",
       "      <th>1</th>\n",
       "      <td>2024-09-15 01:00:00</td>\n",
       "      <td>1.0</td>\n",
       "      <td>Eastbound</td>\n",
       "      <td>SR 201 &amp; 18th Ave</td>\n",
       "    </tr>\n",
       "    <tr>\n",
       "      <th>2</th>\n",
       "      <td>2024-09-15 02:00:00</td>\n",
       "      <td>6.0</td>\n",
       "      <td>Eastbound</td>\n",
       "      <td>SR 201 &amp; 18th Ave</td>\n",
       "    </tr>\n",
       "    <tr>\n",
       "      <th>3</th>\n",
       "      <td>2024-09-15 03:00:00</td>\n",
       "      <td>0.0</td>\n",
       "      <td>Eastbound</td>\n",
       "      <td>SR 201 &amp; 18th Ave</td>\n",
       "    </tr>\n",
       "    <tr>\n",
       "      <th>4</th>\n",
       "      <td>2024-09-15 04:00:00</td>\n",
       "      <td>3.0</td>\n",
       "      <td>Eastbound</td>\n",
       "      <td>SR 201 &amp; 18th Ave</td>\n",
       "    </tr>\n",
       "  </tbody>\n",
       "</table>\n",
       "</div>"
      ],
      "text/plain": [
       "                 Date  Bike Lane  Direction       Intersection\n",
       "0 2024-09-15 00:00:00        2.0  Eastbound  SR 201 & 18th Ave\n",
       "1 2024-09-15 01:00:00        1.0  Eastbound  SR 201 & 18th Ave\n",
       "2 2024-09-15 02:00:00        6.0  Eastbound  SR 201 & 18th Ave\n",
       "3 2024-09-15 03:00:00        0.0  Eastbound  SR 201 & 18th Ave\n",
       "4 2024-09-15 04:00:00        3.0  Eastbound  SR 201 & 18th Ave"
      ]
     },
     "execution_count": 5,
     "metadata": {},
     "output_type": "execute_result"
    }
   ],
   "source": [
    "# remove the special character from the column heading\n",
    "final_combined_df.columns = final_combined_df.columns.str.replace(r'=T\\(\"([^\"]+)\"\\)', r'\\1', regex=True)\n",
    "# drop the empty rows\n",
    "final_combined_df1=final_combined_df.dropna(subset=['Bike Lane'], how='all')\n",
    "# fill the bike lane with west nd east bound sum\n",
    "#final_combined_df1['Bike Lane']=final_combined_df1['Bike Lane'].fillna(final_combined_df1['Eastbound'] +final_combined_df1['Westbound'])\n",
    "# now drop the easta nd west bound\n",
    "#final_combined_df1=final_combined_df1.drop(['Westbound','Eastbound'],axis=1)\n",
    "# fix the date column as datetime format\n",
    "final_combined_df1['Date'] = final_combined_df1['Date'].str.extract(r'(\\d{2}/\\d{2}/\\d{4} \\d{2}:\\d{2}:\\d{2})')[0]\n",
    "final_combined_df1['Date'] = pd.to_datetime(final_combined_df1['Date'])\n",
    "final_combined_df1.head()"
   ]
  },
  {
   "cell_type": "code",
   "execution_count": 6,
   "id": "b37190fe-06fa-4039-b4af-4891d516d0d0",
   "metadata": {},
   "outputs": [
    {
     "data": {
      "text/plain": [
       "array(['SR 201 & 18th Ave'], dtype=object)"
      ]
     },
     "execution_count": 6,
     "metadata": {},
     "output_type": "execute_result"
    }
   ],
   "source": [
    "final_combined_df1.Intersection.unique()"
   ]
  },
  {
   "cell_type": "code",
   "execution_count": 7,
   "id": "9928bd51-4547-45cd-870d-875ab7086dfb",
   "metadata": {},
   "outputs": [
    {
     "data": {
      "text/plain": [
       "(15452, 4)"
      ]
     },
     "execution_count": 7,
     "metadata": {},
     "output_type": "execute_result"
    }
   ],
   "source": [
    "final_combined_df1.shape"
   ]
  },
  {
   "cell_type": "code",
   "execution_count": 8,
   "id": "2f6d0903-5d5d-45ef-bc70-e6b61992686f",
   "metadata": {},
   "outputs": [
    {
     "name": "stderr",
     "output_type": "stream",
     "text": [
      "C:\\Users\\s160555\\AppData\\Local\\Temp\\ipykernel_24724\\2600168932.py:7: SettingWithCopyWarning: \n",
      "A value is trying to be set on a copy of a slice from a DataFrame.\n",
      "Try using .loc[row_indexer,col_indexer] = value instead\n",
      "\n",
      "See the caveats in the documentation: https://pandas.pydata.org/pandas-docs/stable/user_guide/indexing.html#returning-a-view-versus-a-copy\n",
      "  meta_data6['District'] = meta_data6['ID'].astype(str).str[0].astype(int)\n"
     ]
    },
    {
     "data": {
      "text/html": [
       "<div>\n",
       "<style scoped>\n",
       "    .dataframe tbody tr th:only-of-type {\n",
       "        vertical-align: middle;\n",
       "    }\n",
       "\n",
       "    .dataframe tbody tr th {\n",
       "        vertical-align: top;\n",
       "    }\n",
       "\n",
       "    .dataframe thead th {\n",
       "        text-align: right;\n",
       "    }\n",
       "</style>\n",
       "<table border=\"1\" class=\"dataframe\">\n",
       "  <thead>\n",
       "    <tr style=\"text-align: right;\">\n",
       "      <th></th>\n",
       "      <th>ID</th>\n",
       "      <th>Intersection Description</th>\n",
       "      <th>District</th>\n",
       "    </tr>\n",
       "  </thead>\n",
       "  <tbody>\n",
       "    <tr>\n",
       "      <th>0</th>\n",
       "      <td>6001</td>\n",
       "      <td>SR 201 &amp; 18th Ave</td>\n",
       "      <td>6</td>\n",
       "    </tr>\n",
       "  </tbody>\n",
       "</table>\n",
       "</div>"
      ],
      "text/plain": [
       "     ID Intersection Description  District\n",
       "0  6001        SR 201 & 18th Ave         6"
      ]
     },
     "execution_count": 8,
     "metadata": {},
     "output_type": "execute_result"
    }
   ],
   "source": [
    "# read the meta data\n",
    "meta_data_path4=pd.read_excel(r'Z:/AT Data/Data_to_be_processed/DATA LOCATION GUIDE.xlsx',sheet_name='D6')\n",
    "meta_data6=meta_data_path4[['ID','Intersection Description']]\n",
    "# meta_data_path3=pd.read_excel(r'Z:/AT Data/Data_to_be_processed/DATA LOCATION GUIDE.xlsx',sheet_name='D3')\n",
    "# meta_data3=meta_data_path3[['ID','Intersection Description']]\n",
    "# meta_data34=pd.concat([meta_data3,meta_data4])\n",
    "meta_data6['District'] = meta_data6['ID'].astype(str).str[0].astype(int)\n",
    "meta_data6.head()"
   ]
  },
  {
   "cell_type": "code",
   "execution_count": 9,
   "id": "804bdec8-fef8-4161-9eb4-6e9bfd737195",
   "metadata": {},
   "outputs": [
    {
     "data": {
      "text/plain": [
       "array(['SR 201 & 18th Ave'], dtype=object)"
      ]
     },
     "execution_count": 9,
     "metadata": {},
     "output_type": "execute_result"
    }
   ],
   "source": [
    "meta_data6['Intersection Description'].unique()"
   ]
  },
  {
   "cell_type": "code",
   "execution_count": 10,
   "id": "f3295366-e568-482d-8ced-f4eb5789b185",
   "metadata": {},
   "outputs": [
    {
     "data": {
      "text/html": [
       "<div>\n",
       "<style scoped>\n",
       "    .dataframe tbody tr th:only-of-type {\n",
       "        vertical-align: middle;\n",
       "    }\n",
       "\n",
       "    .dataframe tbody tr th {\n",
       "        vertical-align: top;\n",
       "    }\n",
       "\n",
       "    .dataframe thead th {\n",
       "        text-align: right;\n",
       "    }\n",
       "</style>\n",
       "<table border=\"1\" class=\"dataframe\">\n",
       "  <thead>\n",
       "    <tr style=\"text-align: right;\">\n",
       "      <th></th>\n",
       "      <th>Date</th>\n",
       "      <th>Bike Lane</th>\n",
       "      <th>Direction</th>\n",
       "      <th>Intersection</th>\n",
       "      <th>ID</th>\n",
       "      <th>Intersection Description</th>\n",
       "      <th>District</th>\n",
       "    </tr>\n",
       "  </thead>\n",
       "  <tbody>\n",
       "    <tr>\n",
       "      <th>0</th>\n",
       "      <td>2024-09-15 00:00:00</td>\n",
       "      <td>2.0</td>\n",
       "      <td>Eastbound</td>\n",
       "      <td>SR 201 &amp; 18th Ave</td>\n",
       "      <td>6001</td>\n",
       "      <td>SR 201 &amp; 18th Ave</td>\n",
       "      <td>6</td>\n",
       "    </tr>\n",
       "    <tr>\n",
       "      <th>1</th>\n",
       "      <td>2024-09-15 01:00:00</td>\n",
       "      <td>1.0</td>\n",
       "      <td>Eastbound</td>\n",
       "      <td>SR 201 &amp; 18th Ave</td>\n",
       "      <td>6001</td>\n",
       "      <td>SR 201 &amp; 18th Ave</td>\n",
       "      <td>6</td>\n",
       "    </tr>\n",
       "    <tr>\n",
       "      <th>2</th>\n",
       "      <td>2024-09-15 02:00:00</td>\n",
       "      <td>6.0</td>\n",
       "      <td>Eastbound</td>\n",
       "      <td>SR 201 &amp; 18th Ave</td>\n",
       "      <td>6001</td>\n",
       "      <td>SR 201 &amp; 18th Ave</td>\n",
       "      <td>6</td>\n",
       "    </tr>\n",
       "    <tr>\n",
       "      <th>3</th>\n",
       "      <td>2024-09-15 03:00:00</td>\n",
       "      <td>0.0</td>\n",
       "      <td>Eastbound</td>\n",
       "      <td>SR 201 &amp; 18th Ave</td>\n",
       "      <td>6001</td>\n",
       "      <td>SR 201 &amp; 18th Ave</td>\n",
       "      <td>6</td>\n",
       "    </tr>\n",
       "    <tr>\n",
       "      <th>4</th>\n",
       "      <td>2024-09-15 04:00:00</td>\n",
       "      <td>3.0</td>\n",
       "      <td>Eastbound</td>\n",
       "      <td>SR 201 &amp; 18th Ave</td>\n",
       "      <td>6001</td>\n",
       "      <td>SR 201 &amp; 18th Ave</td>\n",
       "      <td>6</td>\n",
       "    </tr>\n",
       "  </tbody>\n",
       "</table>\n",
       "</div>"
      ],
      "text/plain": [
       "                 Date  Bike Lane  Direction       Intersection    ID  \\\n",
       "0 2024-09-15 00:00:00        2.0  Eastbound  SR 201 & 18th Ave  6001   \n",
       "1 2024-09-15 01:00:00        1.0  Eastbound  SR 201 & 18th Ave  6001   \n",
       "2 2024-09-15 02:00:00        6.0  Eastbound  SR 201 & 18th Ave  6001   \n",
       "3 2024-09-15 03:00:00        0.0  Eastbound  SR 201 & 18th Ave  6001   \n",
       "4 2024-09-15 04:00:00        3.0  Eastbound  SR 201 & 18th Ave  6001   \n",
       "\n",
       "  Intersection Description  District  \n",
       "0        SR 201 & 18th Ave         6  \n",
       "1        SR 201 & 18th Ave         6  \n",
       "2        SR 201 & 18th Ave         6  \n",
       "3        SR 201 & 18th Ave         6  \n",
       "4        SR 201 & 18th Ave         6  "
      ]
     },
     "execution_count": 10,
     "metadata": {},
     "output_type": "execute_result"
    }
   ],
   "source": [
    "final_combined_df2=pd.merge(final_combined_df1,meta_data6, left_on=['Intersection'], right_on=['Intersection Description'], how='inner')\n",
    "final_combined_df2.head()"
   ]
  },
  {
   "cell_type": "code",
   "execution_count": 11,
   "id": "8384d90f-b82e-4c35-a5d4-8f06e7cd2c20",
   "metadata": {},
   "outputs": [],
   "source": [
    "# now join with intersection details \n",
    "# if 'Intersection Description' in meta_data34.columns:\n",
    "#     intersection_names=meta_data34['Intersection Description'].tolist()\n",
    "\n",
    "#     def match_intersection(name):\n",
    "#         match, score = process.extractOne(name, intersection_names)  # Find best match\n",
    "#         return match if score > 80 else None \n",
    "#             # Apply matching function to the final_df\n",
    "#     final_combined_df1['Matched_Intersection'] = final_combined_df1['Intersection'].apply(match_intersection)\n",
    "\n",
    "#     # Merge with intersection description data\n",
    "#     final_combined_df1 = final_combined_df1.merge(meta_data34, left_on='Matched_Intersection', right_on='Intersection Description', how='left')\n",
    "\n",
    "# else:\n",
    "#     print(\"Error: 'Intersection Description' column not found in the intersection description file.\")\n",
    "# final_combined_df1.head()"
   ]
  },
  {
   "cell_type": "code",
   "execution_count": 12,
   "id": "ea9f6482-76a6-4091-aaf6-f2732b8a24fb",
   "metadata": {},
   "outputs": [
    {
     "data": {
      "text/plain": [
       "Index(['Date', 'Bike Lane', 'Direction', 'Intersection'], dtype='object')"
      ]
     },
     "execution_count": 12,
     "metadata": {},
     "output_type": "execute_result"
    }
   ],
   "source": [
    "final_combined_df1.columns"
   ]
  },
  {
   "cell_type": "code",
   "execution_count": 13,
   "id": "e5d5b30c-ddd2-4e3e-8cef-71036b1095c2",
   "metadata": {},
   "outputs": [
    {
     "data": {
      "text/plain": [
       "(15452, 4)"
      ]
     },
     "execution_count": 13,
     "metadata": {},
     "output_type": "execute_result"
    }
   ],
   "source": [
    "final_combined_df1.shape"
   ]
  },
  {
   "cell_type": "code",
   "execution_count": 14,
   "id": "712c065a-62bb-4b9a-af53-d9b3e347af61",
   "metadata": {},
   "outputs": [
    {
     "data": {
      "text/html": [
       "<div>\n",
       "<style scoped>\n",
       "    .dataframe tbody tr th:only-of-type {\n",
       "        vertical-align: middle;\n",
       "    }\n",
       "\n",
       "    .dataframe tbody tr th {\n",
       "        vertical-align: top;\n",
       "    }\n",
       "\n",
       "    .dataframe thead th {\n",
       "        text-align: right;\n",
       "    }\n",
       "</style>\n",
       "<table border=\"1\" class=\"dataframe\">\n",
       "  <thead>\n",
       "    <tr style=\"text-align: right;\">\n",
       "      <th></th>\n",
       "      <th>Date</th>\n",
       "      <th>Count</th>\n",
       "      <th>Direction</th>\n",
       "      <th>Loc_id</th>\n",
       "      <th>Intersection</th>\n",
       "      <th>District</th>\n",
       "    </tr>\n",
       "  </thead>\n",
       "  <tbody>\n",
       "    <tr>\n",
       "      <th>0</th>\n",
       "      <td>2024-09-15 00:00:00</td>\n",
       "      <td>2.0</td>\n",
       "      <td>Eastbound</td>\n",
       "      <td>6001</td>\n",
       "      <td>SR 201 &amp; 18th Ave</td>\n",
       "      <td>6</td>\n",
       "    </tr>\n",
       "    <tr>\n",
       "      <th>1</th>\n",
       "      <td>2024-09-15 01:00:00</td>\n",
       "      <td>1.0</td>\n",
       "      <td>Eastbound</td>\n",
       "      <td>6001</td>\n",
       "      <td>SR 201 &amp; 18th Ave</td>\n",
       "      <td>6</td>\n",
       "    </tr>\n",
       "    <tr>\n",
       "      <th>2</th>\n",
       "      <td>2024-09-15 02:00:00</td>\n",
       "      <td>6.0</td>\n",
       "      <td>Eastbound</td>\n",
       "      <td>6001</td>\n",
       "      <td>SR 201 &amp; 18th Ave</td>\n",
       "      <td>6</td>\n",
       "    </tr>\n",
       "    <tr>\n",
       "      <th>3</th>\n",
       "      <td>2024-09-15 03:00:00</td>\n",
       "      <td>0.0</td>\n",
       "      <td>Eastbound</td>\n",
       "      <td>6001</td>\n",
       "      <td>SR 201 &amp; 18th Ave</td>\n",
       "      <td>6</td>\n",
       "    </tr>\n",
       "    <tr>\n",
       "      <th>4</th>\n",
       "      <td>2024-09-15 04:00:00</td>\n",
       "      <td>3.0</td>\n",
       "      <td>Eastbound</td>\n",
       "      <td>6001</td>\n",
       "      <td>SR 201 &amp; 18th Ave</td>\n",
       "      <td>6</td>\n",
       "    </tr>\n",
       "  </tbody>\n",
       "</table>\n",
       "</div>"
      ],
      "text/plain": [
       "                 Date  Count  Direction  Loc_id       Intersection  District\n",
       "0 2024-09-15 00:00:00    2.0  Eastbound    6001  SR 201 & 18th Ave         6\n",
       "1 2024-09-15 01:00:00    1.0  Eastbound    6001  SR 201 & 18th Ave         6\n",
       "2 2024-09-15 02:00:00    6.0  Eastbound    6001  SR 201 & 18th Ave         6\n",
       "3 2024-09-15 03:00:00    0.0  Eastbound    6001  SR 201 & 18th Ave         6\n",
       "4 2024-09-15 04:00:00    3.0  Eastbound    6001  SR 201 & 18th Ave         6"
      ]
     },
     "execution_count": 14,
     "metadata": {},
     "output_type": "execute_result"
    }
   ],
   "source": [
    "# we will drop unnecessary columns\n",
    "com_df1=final_combined_df2[['Date', 'Bike Lane', 'Direction', 'ID', 'Intersection Description', 'District']]\n",
    "com_df2=com_df1.rename(columns={'ID':'Loc_id','Intersection Description':'Intersection'})\n",
    "com_df2=com_df2.rename(columns={'Bike Lane':'Count'})\n",
    "com_df2.head()"
   ]
  },
  {
   "cell_type": "code",
   "execution_count": 29,
   "id": "9844e1ab-5e4e-40cc-8b41-76a9b007b2a4",
   "metadata": {},
   "outputs": [
    {
     "data": {
      "text/html": [
       "<div>\n",
       "<style scoped>\n",
       "    .dataframe tbody tr th:only-of-type {\n",
       "        vertical-align: middle;\n",
       "    }\n",
       "\n",
       "    .dataframe tbody tr th {\n",
       "        vertical-align: top;\n",
       "    }\n",
       "\n",
       "    .dataframe thead th {\n",
       "        text-align: right;\n",
       "    }\n",
       "</style>\n",
       "<table border=\"1\" class=\"dataframe\">\n",
       "  <thead>\n",
       "    <tr style=\"text-align: right;\">\n",
       "      <th></th>\n",
       "      <th>Loc_id</th>\n",
       "      <th>District</th>\n",
       "      <th>Intersection</th>\n",
       "      <th>Year</th>\n",
       "      <th>Month</th>\n",
       "      <th>Day</th>\n",
       "      <th>Weekday_Type</th>\n",
       "      <th>Date</th>\n",
       "      <th>Hour</th>\n",
       "      <th>Mode</th>\n",
       "      <th>Direction</th>\n",
       "      <th>Count</th>\n",
       "    </tr>\n",
       "  </thead>\n",
       "  <tbody>\n",
       "    <tr>\n",
       "      <th>0</th>\n",
       "      <td>6001</td>\n",
       "      <td>6</td>\n",
       "      <td>SR 201 &amp; 18th Ave</td>\n",
       "      <td>2024</td>\n",
       "      <td>Sep</td>\n",
       "      <td>Sunday</td>\n",
       "      <td>Weekend</td>\n",
       "      <td>2024-09-15 00:00:00</td>\n",
       "      <td>12 AM</td>\n",
       "      <td>Bicycle</td>\n",
       "      <td>Eastbound</td>\n",
       "      <td>2.0</td>\n",
       "    </tr>\n",
       "    <tr>\n",
       "      <th>1</th>\n",
       "      <td>6001</td>\n",
       "      <td>6</td>\n",
       "      <td>SR 201 &amp; 18th Ave</td>\n",
       "      <td>2024</td>\n",
       "      <td>Sep</td>\n",
       "      <td>Sunday</td>\n",
       "      <td>Weekend</td>\n",
       "      <td>2024-09-15 01:00:00</td>\n",
       "      <td>1 AM</td>\n",
       "      <td>Bicycle</td>\n",
       "      <td>Eastbound</td>\n",
       "      <td>1.0</td>\n",
       "    </tr>\n",
       "    <tr>\n",
       "      <th>2</th>\n",
       "      <td>6001</td>\n",
       "      <td>6</td>\n",
       "      <td>SR 201 &amp; 18th Ave</td>\n",
       "      <td>2024</td>\n",
       "      <td>Sep</td>\n",
       "      <td>Sunday</td>\n",
       "      <td>Weekend</td>\n",
       "      <td>2024-09-15 02:00:00</td>\n",
       "      <td>2 AM</td>\n",
       "      <td>Bicycle</td>\n",
       "      <td>Eastbound</td>\n",
       "      <td>6.0</td>\n",
       "    </tr>\n",
       "    <tr>\n",
       "      <th>3</th>\n",
       "      <td>6001</td>\n",
       "      <td>6</td>\n",
       "      <td>SR 201 &amp; 18th Ave</td>\n",
       "      <td>2024</td>\n",
       "      <td>Sep</td>\n",
       "      <td>Sunday</td>\n",
       "      <td>Weekend</td>\n",
       "      <td>2024-09-15 03:00:00</td>\n",
       "      <td>3 AM</td>\n",
       "      <td>Bicycle</td>\n",
       "      <td>Eastbound</td>\n",
       "      <td>0.0</td>\n",
       "    </tr>\n",
       "    <tr>\n",
       "      <th>4</th>\n",
       "      <td>6001</td>\n",
       "      <td>6</td>\n",
       "      <td>SR 201 &amp; 18th Ave</td>\n",
       "      <td>2024</td>\n",
       "      <td>Sep</td>\n",
       "      <td>Sunday</td>\n",
       "      <td>Weekend</td>\n",
       "      <td>2024-09-15 04:00:00</td>\n",
       "      <td>4 AM</td>\n",
       "      <td>Bicycle</td>\n",
       "      <td>Eastbound</td>\n",
       "      <td>3.0</td>\n",
       "    </tr>\n",
       "  </tbody>\n",
       "</table>\n",
       "</div>"
      ],
      "text/plain": [
       "   Loc_id  District       Intersection  Year Month     Day Weekday_Type  \\\n",
       "0    6001         6  SR 201 & 18th Ave  2024   Sep  Sunday      Weekend   \n",
       "1    6001         6  SR 201 & 18th Ave  2024   Sep  Sunday      Weekend   \n",
       "2    6001         6  SR 201 & 18th Ave  2024   Sep  Sunday      Weekend   \n",
       "3    6001         6  SR 201 & 18th Ave  2024   Sep  Sunday      Weekend   \n",
       "4    6001         6  SR 201 & 18th Ave  2024   Sep  Sunday      Weekend   \n",
       "\n",
       "                 Date   Hour     Mode  Direction  Count  \n",
       "0 2024-09-15 00:00:00  12 AM  Bicycle  Eastbound    2.0  \n",
       "1 2024-09-15 01:00:00   1 AM  Bicycle  Eastbound    1.0  \n",
       "2 2024-09-15 02:00:00   2 AM  Bicycle  Eastbound    6.0  \n",
       "3 2024-09-15 03:00:00   3 AM  Bicycle  Eastbound    0.0  \n",
       "4 2024-09-15 04:00:00   4 AM  Bicycle  Eastbound    3.0  "
      ]
     },
     "execution_count": 29,
     "metadata": {},
     "output_type": "execute_result"
    }
   ],
   "source": [
    "# make sure the date is in date format to extract the temporal variable\n",
    "com_df2['Date'] = pd.to_datetime(com_df2['Date'], format=\"%m/%d/%Y %H:%M:%S\")\n",
    "\n",
    "# Extract year, month, day\n",
    "com_df2['Year'] = com_df2['Date'].dt.year\n",
    "com_df2['Month'] = com_df2['Date'].dt.strftime('%b') \n",
    "com_df2['Day'] = com_df2['Date'].dt.day_name()\n",
    "\n",
    "# Extract weekday name and check if it's a weekend\n",
    "com_df2['Weekday_Type'] = com_df2['Day'].apply(lambda x: \"Weekend\" if x in ['Saturday', 'Sunday'] else \"Weekday\")\n",
    "\n",
    "# Extract hour and AM/PM\n",
    "com_df2['Hour'] = com_df2['Date'].dt.strftime('%I %p').str.lstrip('0')\n",
    "com_df2['Mode']=\"Bicycle\"\n",
    "com_df3=com_df2[['Loc_id','District','Intersection','Year', 'Month',\n",
    "       'Day','Weekday_Type','Date', 'Hour','Mode','Direction','Count']]\n",
    "com_df3.head()"
   ]
  },
  {
   "cell_type": "code",
   "execution_count": 16,
   "id": "a1bcb002-7773-4f40-a361-8e1304fd862b",
   "metadata": {},
   "outputs": [
    {
     "data": {
      "text/plain": [
       "array(['Eastbound', 'Northbound', 'Southbound', 'Westbound'], dtype=object)"
      ]
     },
     "execution_count": 16,
     "metadata": {},
     "output_type": "execute_result"
    }
   ],
   "source": [
    "com_df3['Direction'].unique()"
   ]
  },
  {
   "cell_type": "code",
   "execution_count": 17,
   "id": "c51246b5-172b-4622-9e20-4e4bf320d357",
   "metadata": {},
   "outputs": [
    {
     "data": {
      "text/plain": [
       "(15452, 12)"
      ]
     },
     "execution_count": 17,
     "metadata": {},
     "output_type": "execute_result"
    }
   ],
   "source": [
    "# Check the duplicate values and drop it\n",
    "com_df4=com_df3.drop_duplicates(subset=['Loc_id','District','Intersection','Year', 'Month',\n",
    "       'Day','Weekday_Type','Date', 'Hour','Mode','Direction','Count'])\n",
    "com_df4.shape"
   ]
  },
  {
   "cell_type": "code",
   "execution_count": 18,
   "id": "b7ad0b3a-1841-4e19-aecb-7b505c802777",
   "metadata": {},
   "outputs": [
    {
     "data": {
      "text/plain": [
       "Loc_id          0\n",
       "District        0\n",
       "Intersection    0\n",
       "Year            0\n",
       "Month           0\n",
       "Day             0\n",
       "Weekday_Type    0\n",
       "Date            0\n",
       "Hour            0\n",
       "Mode            0\n",
       "Direction       0\n",
       "Count           0\n",
       "dtype: int64"
      ]
     },
     "execution_count": 18,
     "metadata": {},
     "output_type": "execute_result"
    }
   ],
   "source": [
    "com_df4.isnull().sum()"
   ]
  },
  {
   "cell_type": "code",
   "execution_count": 19,
   "id": "d69c71be-84dc-4717-b252-a8ac1e9611de",
   "metadata": {},
   "outputs": [
    {
     "data": {
      "text/plain": [
       "count    15452.000000\n",
       "mean         1.626715\n",
       "std          3.815047\n",
       "min          0.000000\n",
       "25%          0.000000\n",
       "50%          0.000000\n",
       "75%          2.000000\n",
       "max         60.000000\n",
       "Name: Count, dtype: float64"
      ]
     },
     "execution_count": 19,
     "metadata": {},
     "output_type": "execute_result"
    }
   ],
   "source": [
    "com_df4['Count'].describe()"
   ]
  },
  {
   "cell_type": "code",
   "execution_count": 20,
   "id": "24cae743-3cb1-4500-8057-6f9e636cf592",
   "metadata": {},
   "outputs": [
    {
     "name": "stdout",
     "output_type": "stream",
     "text": [
      "Empty DataFrame\n",
      "Columns: [Loc_id, District, Intersection, Year, Month, Day, Weekday_Type, Date, Hour, Mode, Direction, Count]\n",
      "Index: []\n"
     ]
    }
   ],
   "source": [
    "fraction_values = com_df4[com_df4['Count'] != com_df4['Count'].astype(int)]\n",
    "print(fraction_values)"
   ]
  },
  {
   "cell_type": "code",
   "execution_count": 23,
   "id": "e627bc42-6aef-46ea-88b5-caa13bd39090",
   "metadata": {},
   "outputs": [],
   "source": [
    "com_df3.to_csv('Z:/AT Data/Processed_data/D6_Bike/D6_bike_data_for_Tableau.csv',index=False)"
   ]
  },
  {
   "cell_type": "code",
   "execution_count": 24,
   "id": "428cce60-cb24-481e-bf34-738b27dd7119",
   "metadata": {},
   "outputs": [
    {
     "name": "stderr",
     "output_type": "stream",
     "text": [
      "C:\\Users\\s160555\\AppData\\Local\\Temp\\ipykernel_24724\\1890048495.py:3: SettingWithCopyWarning: \n",
      "A value is trying to be set on a copy of a slice from a DataFrame.\n",
      "Try using .loc[row_indexer,col_indexer] = value instead\n",
      "\n",
      "See the caveats in the documentation: https://pandas.pydata.org/pandas-docs/stable/user_guide/indexing.html#returning-a-view-versus-a-copy\n",
      "  ts['Count'] = ts['Count'].astype(int)\n"
     ]
    },
    {
     "data": {
      "text/html": [
       "<div>\n",
       "<style scoped>\n",
       "    .dataframe tbody tr th:only-of-type {\n",
       "        vertical-align: middle;\n",
       "    }\n",
       "\n",
       "    .dataframe tbody tr th {\n",
       "        vertical-align: top;\n",
       "    }\n",
       "\n",
       "    .dataframe thead th {\n",
       "        text-align: right;\n",
       "    }\n",
       "</style>\n",
       "<table border=\"1\" class=\"dataframe\">\n",
       "  <thead>\n",
       "    <tr style=\"text-align: right;\">\n",
       "      <th>Direction</th>\n",
       "      <th>Loc_id</th>\n",
       "      <th>Date</th>\n",
       "      <th>Time</th>\n",
       "      <th>Eastbound</th>\n",
       "      <th>Northbound</th>\n",
       "      <th>Southbound</th>\n",
       "      <th>Westbound</th>\n",
       "    </tr>\n",
       "  </thead>\n",
       "  <tbody>\n",
       "    <tr>\n",
       "      <th>0</th>\n",
       "      <td>6001</td>\n",
       "      <td>2024-09-10</td>\n",
       "      <td>11 PM</td>\n",
       "      <td>3.0</td>\n",
       "      <td>0.0</td>\n",
       "      <td>0.0</td>\n",
       "      <td>0.0</td>\n",
       "    </tr>\n",
       "    <tr>\n",
       "      <th>1</th>\n",
       "      <td>6001</td>\n",
       "      <td>2024-09-11</td>\n",
       "      <td>1 AM</td>\n",
       "      <td>2.0</td>\n",
       "      <td>2.0</td>\n",
       "      <td>0.0</td>\n",
       "      <td>0.0</td>\n",
       "    </tr>\n",
       "    <tr>\n",
       "      <th>2</th>\n",
       "      <td>6001</td>\n",
       "      <td>2024-09-11</td>\n",
       "      <td>1 PM</td>\n",
       "      <td>0.0</td>\n",
       "      <td>2.0</td>\n",
       "      <td>0.0</td>\n",
       "      <td>1.0</td>\n",
       "    </tr>\n",
       "    <tr>\n",
       "      <th>3</th>\n",
       "      <td>6001</td>\n",
       "      <td>2024-09-11</td>\n",
       "      <td>10 AM</td>\n",
       "      <td>0.0</td>\n",
       "      <td>1.0</td>\n",
       "      <td>0.0</td>\n",
       "      <td>0.0</td>\n",
       "    </tr>\n",
       "    <tr>\n",
       "      <th>4</th>\n",
       "      <td>6001</td>\n",
       "      <td>2024-09-11</td>\n",
       "      <td>10 PM</td>\n",
       "      <td>10.0</td>\n",
       "      <td>0.0</td>\n",
       "      <td>0.0</td>\n",
       "      <td>0.0</td>\n",
       "    </tr>\n",
       "  </tbody>\n",
       "</table>\n",
       "</div>"
      ],
      "text/plain": [
       "Direction  Loc_id        Date   Time  Eastbound  Northbound  Southbound  \\\n",
       "0            6001  2024-09-10  11 PM        3.0         0.0         0.0   \n",
       "1            6001  2024-09-11   1 AM        2.0         2.0         0.0   \n",
       "2            6001  2024-09-11   1 PM        0.0         2.0         0.0   \n",
       "3            6001  2024-09-11  10 AM        0.0         1.0         0.0   \n",
       "4            6001  2024-09-11  10 PM       10.0         0.0         0.0   \n",
       "\n",
       "Direction  Westbound  \n",
       "0                0.0  \n",
       "1                0.0  \n",
       "2                1.0  \n",
       "3                0.0  \n",
       "4                0.0  "
      ]
     },
     "execution_count": 24,
     "metadata": {},
     "output_type": "execute_result"
    }
   ],
   "source": [
    "# Lets extract the data for Traffic Census\n",
    "ts=com_df4[['Loc_id','Date', 'Hour','Direction','Count']]\n",
    "ts['Count'] = ts['Count'].astype(int)\n",
    "ts=ts.rename(columns={'Hour':'Time'})\n",
    "ts['Date'] = pd.to_datetime(ts['Date']).dt.date\n",
    "# Pivot the table\n",
    "pivoted_df = ts.pivot_table(index=['Loc_id','Date', 'Time'], columns='Direction', values='Count', fill_value=0)\n",
    "# Reset index to make it more readable\n",
    "pivoted_df = pivoted_df.reset_index()\n",
    "pivoted_df.head()"
   ]
  },
  {
   "cell_type": "code",
   "execution_count": 25,
   "id": "028ac04a-5a06-4712-a90e-e2374e90a556",
   "metadata": {},
   "outputs": [],
   "source": [
    "pivoted_df.to_csv('Z:/AT Data/Processed_data/D6_Bike/D6_bike_data_for_census.csv',index=False)"
   ]
  },
  {
   "cell_type": "code",
   "execution_count": 26,
   "id": "d7bdc43e-dd03-4bcb-8030-8c73f5e7eaac",
   "metadata": {},
   "outputs": [],
   "source": [
    "# end of the script"
   ]
  },
  {
   "cell_type": "code",
   "execution_count": null,
   "id": "791890eb-08c3-4b1c-85c3-13eb22f21a27",
   "metadata": {},
   "outputs": [],
   "source": []
  }
 ],
 "metadata": {
  "kernelspec": {
   "display_name": "geo_env",
   "language": "python",
   "name": "geo_env"
  },
  "language_info": {
   "codemirror_mode": {
    "name": "ipython",
    "version": 3
   },
   "file_extension": ".py",
   "mimetype": "text/x-python",
   "name": "python",
   "nbconvert_exporter": "python",
   "pygments_lexer": "ipython3",
   "version": "3.12.5"
  },
  "widgets": {
   "application/vnd.jupyter.widget-state+json": {
    "state": {},
    "version_major": 2,
    "version_minor": 0
   }
  }
 },
 "nbformat": 4,
 "nbformat_minor": 5
}
