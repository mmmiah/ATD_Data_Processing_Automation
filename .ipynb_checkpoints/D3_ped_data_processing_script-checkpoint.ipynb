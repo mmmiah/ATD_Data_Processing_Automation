{
 "cells": [
  {
   "cell_type": "code",
   "execution_count": 1,
   "id": "788bde12-ca44-4782-8363-1d000f271973",
   "metadata": {},
   "outputs": [
    {
     "name": "stderr",
     "output_type": "stream",
     "text": [
      "C:\\Users\\s160555\\AppData\\Local\\anaconda3\\envs\\geo_env\\Lib\\site-packages\\fuzzywuzzy\\fuzz.py:11: UserWarning: Using slow pure-python SequenceMatcher. Install python-Levenshtein to remove this warning\n",
      "  warnings.warn('Using slow pure-python SequenceMatcher. Install python-Levenshtein to remove this warning')\n"
     ]
    }
   ],
   "source": [
    "import pandas as pd\n",
    "import numpy as np\n",
    "import os\n",
    "import glob\n",
    "from fuzzywuzzy import process"
   ]
  },
  {
   "cell_type": "code",
   "execution_count": 2,
   "id": "a988d7d2-6d66-4c2d-a1f5-34dd84895a70",
   "metadata": {},
   "outputs": [],
   "source": [
    "#!pip install fuzzywuzzy"
   ]
  },
  {
   "cell_type": "code",
   "execution_count": 3,
   "id": "33121af0-3203-404e-aff4-295b1fd31a5a",
   "metadata": {},
   "outputs": [
    {
     "data": {
      "text/html": [
       "<div>\n",
       "<style scoped>\n",
       "    .dataframe tbody tr th:only-of-type {\n",
       "        vertical-align: middle;\n",
       "    }\n",
       "\n",
       "    .dataframe tbody tr th {\n",
       "        vertical-align: top;\n",
       "    }\n",
       "\n",
       "    .dataframe thead th {\n",
       "        text-align: right;\n",
       "    }\n",
       "</style>\n",
       "<table border=\"1\" class=\"dataframe\">\n",
       "  <thead>\n",
       "    <tr style=\"text-align: right;\">\n",
       "      <th></th>\n",
       "      <th>Intersection Description</th>\n",
       "      <th>ID</th>\n",
       "      <th>03 - Pedestrian Locations</th>\n",
       "      <th>03 - Bicycle Locations</th>\n",
       "    </tr>\n",
       "  </thead>\n",
       "  <tbody>\n",
       "    <tr>\n",
       "      <th>0</th>\n",
       "      <td>HWY 49 &amp; I80 EB off Ramp</td>\n",
       "      <td>3001</td>\n",
       "      <td>03P001 - 2023 - Hwy 49 &amp; I80 EB Off Ramp</td>\n",
       "      <td>NaN</td>\n",
       "    </tr>\n",
       "    <tr>\n",
       "      <th>1</th>\n",
       "      <td>HWY 49 &amp; Sawyer St</td>\n",
       "      <td>3002</td>\n",
       "      <td>03P002 - 2023 - Hwy 49 &amp; Sawyer St</td>\n",
       "      <td>NaN</td>\n",
       "    </tr>\n",
       "    <tr>\n",
       "      <th>2</th>\n",
       "      <td>HWY 49 &amp; Elm Ave/Fulweiler Ave</td>\n",
       "      <td>3003</td>\n",
       "      <td>03P003 - 2023 - Hwy 49 &amp; Elm Ave_Fulwiler Ave</td>\n",
       "      <td>NaN</td>\n",
       "    </tr>\n",
       "    <tr>\n",
       "      <th>3</th>\n",
       "      <td>HWY 49 &amp; Palm Ave</td>\n",
       "      <td>3004</td>\n",
       "      <td>03P004 - 2023 - Hwy 49 &amp; Palm Rd</td>\n",
       "      <td>NaN</td>\n",
       "    </tr>\n",
       "    <tr>\n",
       "      <th>4</th>\n",
       "      <td>HWY 49 &amp; Marguerite Mile Rd</td>\n",
       "      <td>3005</td>\n",
       "      <td>03P005 - 2023 - Hwy 49 &amp; Marguerite Mile Rd</td>\n",
       "      <td>NaN</td>\n",
       "    </tr>\n",
       "  </tbody>\n",
       "</table>\n",
       "</div>"
      ],
      "text/plain": [
       "         Intersection Description    ID  \\\n",
       "0        HWY 49 & I80 EB off Ramp  3001   \n",
       "1              HWY 49 & Sawyer St  3002   \n",
       "2  HWY 49 & Elm Ave/Fulweiler Ave  3003   \n",
       "3               HWY 49 & Palm Ave  3004   \n",
       "4     HWY 49 & Marguerite Mile Rd  3005   \n",
       "\n",
       "                       03 - Pedestrian Locations 03 - Bicycle Locations  \n",
       "0       03P001 - 2023 - Hwy 49 & I80 EB Off Ramp                    NaN  \n",
       "1             03P002 - 2023 - Hwy 49 & Sawyer St                    NaN  \n",
       "2  03P003 - 2023 - Hwy 49 & Elm Ave_Fulwiler Ave                    NaN  \n",
       "3               03P004 - 2023 - Hwy 49 & Palm Rd                    NaN  \n",
       "4    03P005 - 2023 - Hwy 49 & Marguerite Mile Rd                    NaN  "
      ]
     },
     "execution_count": 3,
     "metadata": {},
     "output_type": "execute_result"
    }
   ],
   "source": [
    "# Read the meta_data\n",
    "#Z:\\AT Data\\Tableau Database\\Archive\\For Mintu\n",
    "meta_data_path=pd.read_excel(r'Z:/AT Data/Tableau Database/Archive/For Mintu/D3/DATA LOCATION GUIDE.xlsx',sheet_name='D3')\n",
    "meta_data_path.head()"
   ]
  },
  {
   "cell_type": "code",
   "execution_count": 4,
   "id": "a1e95c51-644d-40aa-8b87-14d568ac05fa",
   "metadata": {},
   "outputs": [
    {
     "name": "stderr",
     "output_type": "stream",
     "text": [
      "C:\\Users\\s160555\\AppData\\Local\\Temp\\ipykernel_24244\\2310566471.py:44: FutureWarning: The behavior of DataFrame concatenation with empty or all-NA entries is deprecated. In a future version, this will no longer exclude empty or all-NA columns when determining the result dtypes. To retain the old behavior, exclude the relevant entries before the concat operation.\n",
      "  com_df = pd.concat(agg, ignore_index=True)\n"
     ]
    },
    {
     "data": {
      "text/html": [
       "<div>\n",
       "<style scoped>\n",
       "    .dataframe tbody tr th:only-of-type {\n",
       "        vertical-align: middle;\n",
       "    }\n",
       "\n",
       "    .dataframe tbody tr th {\n",
       "        vertical-align: top;\n",
       "    }\n",
       "\n",
       "    .dataframe thead th {\n",
       "        text-align: right;\n",
       "    }\n",
       "</style>\n",
       "<table border=\"1\" class=\"dataframe\">\n",
       "  <thead>\n",
       "    <tr style=\"text-align: right;\">\n",
       "      <th></th>\n",
       "      <th>Date</th>\n",
       "      <th>Intersection</th>\n",
       "      <th>Direction</th>\n",
       "      <th>Count</th>\n",
       "    </tr>\n",
       "  </thead>\n",
       "  <tbody>\n",
       "    <tr>\n",
       "      <th>0</th>\n",
       "      <td>1/1/2024 0:00</td>\n",
       "      <td>Atwood</td>\n",
       "      <td>Westbound</td>\n",
       "      <td>1.0</td>\n",
       "    </tr>\n",
       "    <tr>\n",
       "      <th>1</th>\n",
       "      <td>1/1/2024 1:00</td>\n",
       "      <td>Atwood</td>\n",
       "      <td>Westbound</td>\n",
       "      <td>2.0</td>\n",
       "    </tr>\n",
       "    <tr>\n",
       "      <th>2</th>\n",
       "      <td>1/1/2024 2:00</td>\n",
       "      <td>Atwood</td>\n",
       "      <td>Westbound</td>\n",
       "      <td>0.0</td>\n",
       "    </tr>\n",
       "    <tr>\n",
       "      <th>3</th>\n",
       "      <td>1/1/2024 3:00</td>\n",
       "      <td>Atwood</td>\n",
       "      <td>Westbound</td>\n",
       "      <td>0.0</td>\n",
       "    </tr>\n",
       "    <tr>\n",
       "      <th>4</th>\n",
       "      <td>1/1/2024 4:00</td>\n",
       "      <td>Atwood</td>\n",
       "      <td>Westbound</td>\n",
       "      <td>0.0</td>\n",
       "    </tr>\n",
       "  </tbody>\n",
       "</table>\n",
       "</div>"
      ],
      "text/plain": [
       "            Date Intersection  Direction  Count\n",
       "0  1/1/2024 0:00       Atwood  Westbound    1.0\n",
       "1  1/1/2024 1:00       Atwood  Westbound    2.0\n",
       "2  1/1/2024 2:00       Atwood  Westbound    0.0\n",
       "3  1/1/2024 3:00       Atwood  Westbound    0.0\n",
       "4  1/1/2024 4:00       Atwood  Westbound    0.0"
      ]
     },
     "execution_count": 4,
     "metadata": {},
     "output_type": "execute_result"
    }
   ],
   "source": [
    "# read the directory\n",
    "data_dir = r'Z:/AT Data/Tableau Database/Archive/For Mintu/D3/D3 Pedestrian Sample'\n",
    "# read the csv file\n",
    "ped_data = glob.glob(os.path.join(data_dir, \"*.csv\"))\n",
    "\n",
    "#store the process data\n",
    "agg = []\n",
    "# List the expected column name\n",
    "expected_columns = ['Date', 'Northbound', 'Southbound', 'Eastbound', 'Westbound', 'Intersection', 'Direction']\n",
    "def extract_direction(filename):\n",
    "    directions = ['North', 'South', 'East', 'West']\n",
    "    for direction in directions:\n",
    "        if direction in filename:\n",
    "            return direction\n",
    "    return 'Unknown'\n",
    "\n",
    "for file in ped_data:\n",
    "    filename = os.path.basename(file)\n",
    "    \n",
    "    try:\n",
    "        name_part = filename.split(\"__\")[1]\n",
    "        name_parts = name_part.split('_')\n",
    "        intersection_name = name_parts[1]\n",
    "        direction = extract_direction(filename)\n",
    "    except IndexError:\n",
    "        print(f\"Skipping invalid file name format: {filename}\")\n",
    "        continue     \n",
    "\n",
    "    pdf = pd.read_csv(file)\n",
    "\n",
    "    # Add extracted info to DataFrame\n",
    "    pdf['Intersection'] = intersection_name\n",
    "    pdf['Direction'] = direction\n",
    "\n",
    "    # Ensure all expected columns exist\n",
    "    for col in expected_columns:\n",
    "        if col not in pdf.columns:\n",
    "            pdf[col] = pd.NA  \n",
    "\n",
    "    # Append to list\n",
    "    agg.append(pdf)\n",
    "\n",
    "# Now concatenate all DataFrames without dropping expected columns\n",
    "com_df = pd.concat(agg, ignore_index=True)\n",
    "com_df=com_df.drop(['Unnamed: 3'],axis=1)\n",
    "# sum the volume for direction within the bound\n",
    "com_df[['Southbound', 'Northbound', 'Eastbound', 'Westbound']] = com_df[['Southbound', 'Northbound', 'Eastbound', 'Westbound']].fillna(0)\n",
    "com_df['Count'] = com_df['Southbound'] + com_df['Northbound'] + com_df['Eastbound'] + com_df['Westbound']\n",
    "# drop the directiional flow within the bound\n",
    "com_df=com_df.drop(['Southbound', 'Northbound', 'Eastbound', 'Westbound'],axis=1)\n",
    "# rename the Direction to Bound\n",
    "com_df['Direction'] =com_df['Direction'].replace({\n",
    "    'East': 'Westbound',\n",
    "    'West': 'Eastbound',\n",
    "    'North': 'Southbound',\n",
    "    'South': 'Northbound'\n",
    "})\n",
    "# Display the first few rows\n",
    "com_df.head()"
   ]
  },
  {
   "cell_type": "code",
   "execution_count": 5,
   "id": "788f5743-864a-4dda-9c90-a46bb990db9d",
   "metadata": {},
   "outputs": [
    {
     "data": {
      "text/plain": [
       "(854107, 4)"
      ]
     },
     "execution_count": 5,
     "metadata": {},
     "output_type": "execute_result"
    }
   ],
   "source": [
    "com_df.shape"
   ]
  },
  {
   "cell_type": "code",
   "execution_count": 6,
   "id": "eac3d6e2-1109-4a61-ac2b-25b84b6e234f",
   "metadata": {},
   "outputs": [
    {
     "data": {
      "text/html": [
       "<div>\n",
       "<style scoped>\n",
       "    .dataframe tbody tr th:only-of-type {\n",
       "        vertical-align: middle;\n",
       "    }\n",
       "\n",
       "    .dataframe tbody tr th {\n",
       "        vertical-align: top;\n",
       "    }\n",
       "\n",
       "    .dataframe thead th {\n",
       "        text-align: right;\n",
       "    }\n",
       "</style>\n",
       "<table border=\"1\" class=\"dataframe\">\n",
       "  <thead>\n",
       "    <tr style=\"text-align: right;\">\n",
       "      <th></th>\n",
       "      <th>Date</th>\n",
       "      <th>Intersection</th>\n",
       "      <th>Direction</th>\n",
       "      <th>Count</th>\n",
       "      <th>Matched_Intersection</th>\n",
       "      <th>Intersection Description</th>\n",
       "      <th>ID</th>\n",
       "      <th>03 - Pedestrian Locations</th>\n",
       "      <th>03 - Bicycle Locations</th>\n",
       "    </tr>\n",
       "  </thead>\n",
       "  <tbody>\n",
       "    <tr>\n",
       "      <th>0</th>\n",
       "      <td>1/1/2024 0:00</td>\n",
       "      <td>Atwood</td>\n",
       "      <td>Westbound</td>\n",
       "      <td>1.0</td>\n",
       "      <td>HWY 49 &amp; Atwood Rd</td>\n",
       "      <td>HWY 49 &amp; Atwood Rd</td>\n",
       "      <td>3009</td>\n",
       "      <td>03P009 - 2023 - Hwy 49 &amp; Atwood Rd</td>\n",
       "      <td>NaN</td>\n",
       "    </tr>\n",
       "    <tr>\n",
       "      <th>1</th>\n",
       "      <td>1/1/2024 1:00</td>\n",
       "      <td>Atwood</td>\n",
       "      <td>Westbound</td>\n",
       "      <td>2.0</td>\n",
       "      <td>HWY 49 &amp; Atwood Rd</td>\n",
       "      <td>HWY 49 &amp; Atwood Rd</td>\n",
       "      <td>3009</td>\n",
       "      <td>03P009 - 2023 - Hwy 49 &amp; Atwood Rd</td>\n",
       "      <td>NaN</td>\n",
       "    </tr>\n",
       "    <tr>\n",
       "      <th>2</th>\n",
       "      <td>1/1/2024 2:00</td>\n",
       "      <td>Atwood</td>\n",
       "      <td>Westbound</td>\n",
       "      <td>0.0</td>\n",
       "      <td>HWY 49 &amp; Atwood Rd</td>\n",
       "      <td>HWY 49 &amp; Atwood Rd</td>\n",
       "      <td>3009</td>\n",
       "      <td>03P009 - 2023 - Hwy 49 &amp; Atwood Rd</td>\n",
       "      <td>NaN</td>\n",
       "    </tr>\n",
       "    <tr>\n",
       "      <th>3</th>\n",
       "      <td>1/1/2024 3:00</td>\n",
       "      <td>Atwood</td>\n",
       "      <td>Westbound</td>\n",
       "      <td>0.0</td>\n",
       "      <td>HWY 49 &amp; Atwood Rd</td>\n",
       "      <td>HWY 49 &amp; Atwood Rd</td>\n",
       "      <td>3009</td>\n",
       "      <td>03P009 - 2023 - Hwy 49 &amp; Atwood Rd</td>\n",
       "      <td>NaN</td>\n",
       "    </tr>\n",
       "    <tr>\n",
       "      <th>4</th>\n",
       "      <td>1/1/2024 4:00</td>\n",
       "      <td>Atwood</td>\n",
       "      <td>Westbound</td>\n",
       "      <td>0.0</td>\n",
       "      <td>HWY 49 &amp; Atwood Rd</td>\n",
       "      <td>HWY 49 &amp; Atwood Rd</td>\n",
       "      <td>3009</td>\n",
       "      <td>03P009 - 2023 - Hwy 49 &amp; Atwood Rd</td>\n",
       "      <td>NaN</td>\n",
       "    </tr>\n",
       "  </tbody>\n",
       "</table>\n",
       "</div>"
      ],
      "text/plain": [
       "            Date Intersection  Direction  Count Matched_Intersection  \\\n",
       "0  1/1/2024 0:00       Atwood  Westbound    1.0   HWY 49 & Atwood Rd   \n",
       "1  1/1/2024 1:00       Atwood  Westbound    2.0   HWY 49 & Atwood Rd   \n",
       "2  1/1/2024 2:00       Atwood  Westbound    0.0   HWY 49 & Atwood Rd   \n",
       "3  1/1/2024 3:00       Atwood  Westbound    0.0   HWY 49 & Atwood Rd   \n",
       "4  1/1/2024 4:00       Atwood  Westbound    0.0   HWY 49 & Atwood Rd   \n",
       "\n",
       "  Intersection Description    ID           03 - Pedestrian Locations  \\\n",
       "0       HWY 49 & Atwood Rd  3009  03P009 - 2023 - Hwy 49 & Atwood Rd   \n",
       "1       HWY 49 & Atwood Rd  3009  03P009 - 2023 - Hwy 49 & Atwood Rd   \n",
       "2       HWY 49 & Atwood Rd  3009  03P009 - 2023 - Hwy 49 & Atwood Rd   \n",
       "3       HWY 49 & Atwood Rd  3009  03P009 - 2023 - Hwy 49 & Atwood Rd   \n",
       "4       HWY 49 & Atwood Rd  3009  03P009 - 2023 - Hwy 49 & Atwood Rd   \n",
       "\n",
       "  03 - Bicycle Locations  \n",
       "0                    NaN  \n",
       "1                    NaN  \n",
       "2                    NaN  \n",
       "3                    NaN  \n",
       "4                    NaN  "
      ]
     },
     "execution_count": 6,
     "metadata": {},
     "output_type": "execute_result"
    }
   ],
   "source": [
    "# now join with intersection details \n",
    "if 'Intersection Description' in meta_data_path.columns:\n",
    "    intersection_names=meta_data_path['Intersection Description'].tolist()\n",
    "\n",
    "    def match_intersection(name):\n",
    "        match, score = process.extractOne(name, intersection_names)  # Find best match\n",
    "        return match if score > 50 else None \n",
    "            # Apply matching function to the final_df\n",
    "    com_df['Matched_Intersection'] = com_df['Intersection'].apply(match_intersection)\n",
    "\n",
    "    # Merge with intersection description data\n",
    "    com_df = com_df.merge(meta_data_path, left_on='Matched_Intersection', right_on='Intersection Description', how='inner')\n",
    "\n",
    "else:\n",
    "    print(\"Error: 'Intersection Description' column not found in the intersection description file.\")\n",
    "com_df.head()"
   ]
  },
  {
   "cell_type": "code",
   "execution_count": 7,
   "id": "7187a505-33b9-4678-93da-803cb552b0dc",
   "metadata": {},
   "outputs": [
    {
     "data": {
      "text/plain": [
       "(854107, 9)"
      ]
     },
     "execution_count": 7,
     "metadata": {},
     "output_type": "execute_result"
    }
   ],
   "source": [
    "com_df.shape"
   ]
  },
  {
   "cell_type": "code",
   "execution_count": 8,
   "id": "e7978ee0-56b8-4514-91ae-a75582e42da9",
   "metadata": {},
   "outputs": [
    {
     "data": {
      "text/html": [
       "<div>\n",
       "<style scoped>\n",
       "    .dataframe tbody tr th:only-of-type {\n",
       "        vertical-align: middle;\n",
       "    }\n",
       "\n",
       "    .dataframe tbody tr th {\n",
       "        vertical-align: top;\n",
       "    }\n",
       "\n",
       "    .dataframe thead th {\n",
       "        text-align: right;\n",
       "    }\n",
       "</style>\n",
       "<table border=\"1\" class=\"dataframe\">\n",
       "  <thead>\n",
       "    <tr style=\"text-align: right;\">\n",
       "      <th></th>\n",
       "      <th>Loc_id</th>\n",
       "      <th>Intersection</th>\n",
       "      <th>Direction</th>\n",
       "      <th>Date</th>\n",
       "      <th>Count</th>\n",
       "    </tr>\n",
       "  </thead>\n",
       "  <tbody>\n",
       "    <tr>\n",
       "      <th>0</th>\n",
       "      <td>3009</td>\n",
       "      <td>HWY 49 &amp; Atwood Rd</td>\n",
       "      <td>Westbound</td>\n",
       "      <td>1/1/2024 0:00</td>\n",
       "      <td>1.0</td>\n",
       "    </tr>\n",
       "    <tr>\n",
       "      <th>1</th>\n",
       "      <td>3009</td>\n",
       "      <td>HWY 49 &amp; Atwood Rd</td>\n",
       "      <td>Westbound</td>\n",
       "      <td>1/1/2024 1:00</td>\n",
       "      <td>2.0</td>\n",
       "    </tr>\n",
       "    <tr>\n",
       "      <th>2</th>\n",
       "      <td>3009</td>\n",
       "      <td>HWY 49 &amp; Atwood Rd</td>\n",
       "      <td>Westbound</td>\n",
       "      <td>1/1/2024 2:00</td>\n",
       "      <td>0.0</td>\n",
       "    </tr>\n",
       "    <tr>\n",
       "      <th>3</th>\n",
       "      <td>3009</td>\n",
       "      <td>HWY 49 &amp; Atwood Rd</td>\n",
       "      <td>Westbound</td>\n",
       "      <td>1/1/2024 3:00</td>\n",
       "      <td>0.0</td>\n",
       "    </tr>\n",
       "    <tr>\n",
       "      <th>4</th>\n",
       "      <td>3009</td>\n",
       "      <td>HWY 49 &amp; Atwood Rd</td>\n",
       "      <td>Westbound</td>\n",
       "      <td>1/1/2024 4:00</td>\n",
       "      <td>0.0</td>\n",
       "    </tr>\n",
       "  </tbody>\n",
       "</table>\n",
       "</div>"
      ],
      "text/plain": [
       "   Loc_id        Intersection  Direction           Date  Count\n",
       "0    3009  HWY 49 & Atwood Rd  Westbound  1/1/2024 0:00    1.0\n",
       "1    3009  HWY 49 & Atwood Rd  Westbound  1/1/2024 1:00    2.0\n",
       "2    3009  HWY 49 & Atwood Rd  Westbound  1/1/2024 2:00    0.0\n",
       "3    3009  HWY 49 & Atwood Rd  Westbound  1/1/2024 3:00    0.0\n",
       "4    3009  HWY 49 & Atwood Rd  Westbound  1/1/2024 4:00    0.0"
      ]
     },
     "execution_count": 8,
     "metadata": {},
     "output_type": "execute_result"
    }
   ],
   "source": [
    "# we will drop unnecessary columns\n",
    "com_df1=com_df[['ID','Intersection Description','Direction','Date', 'Count']]\n",
    "com_df2=com_df1.rename(columns={'ID':'Loc_id','Intersection Description':'Intersection'})\n",
    "com_df2.head()"
   ]
  },
  {
   "cell_type": "code",
   "execution_count": 10,
   "id": "1e8954bc-12a0-4eb1-8b3d-63abf84ced7b",
   "metadata": {},
   "outputs": [
    {
     "data": {
      "text/html": [
       "<div>\n",
       "<style scoped>\n",
       "    .dataframe tbody tr th:only-of-type {\n",
       "        vertical-align: middle;\n",
       "    }\n",
       "\n",
       "    .dataframe tbody tr th {\n",
       "        vertical-align: top;\n",
       "    }\n",
       "\n",
       "    .dataframe thead th {\n",
       "        text-align: right;\n",
       "    }\n",
       "</style>\n",
       "<table border=\"1\" class=\"dataframe\">\n",
       "  <thead>\n",
       "    <tr style=\"text-align: right;\">\n",
       "      <th></th>\n",
       "      <th>Loc_id</th>\n",
       "      <th>District</th>\n",
       "      <th>Intersection</th>\n",
       "      <th>Year</th>\n",
       "      <th>Month</th>\n",
       "      <th>Day</th>\n",
       "      <th>Weekday_Type</th>\n",
       "      <th>Date</th>\n",
       "      <th>Hour</th>\n",
       "      <th>Mode</th>\n",
       "      <th>Direction</th>\n",
       "      <th>Count</th>\n",
       "    </tr>\n",
       "  </thead>\n",
       "  <tbody>\n",
       "    <tr>\n",
       "      <th>0</th>\n",
       "      <td>3009</td>\n",
       "      <td>3</td>\n",
       "      <td>HWY 49 &amp; Atwood Rd</td>\n",
       "      <td>2024</td>\n",
       "      <td>Jan</td>\n",
       "      <td>Monday</td>\n",
       "      <td>Weekday</td>\n",
       "      <td>2024-01-01 00:00:00</td>\n",
       "      <td>12 AM</td>\n",
       "      <td>Pedestrian</td>\n",
       "      <td>Westbound</td>\n",
       "      <td>1.0</td>\n",
       "    </tr>\n",
       "    <tr>\n",
       "      <th>1</th>\n",
       "      <td>3009</td>\n",
       "      <td>3</td>\n",
       "      <td>HWY 49 &amp; Atwood Rd</td>\n",
       "      <td>2024</td>\n",
       "      <td>Jan</td>\n",
       "      <td>Monday</td>\n",
       "      <td>Weekday</td>\n",
       "      <td>2024-01-01 01:00:00</td>\n",
       "      <td>1 AM</td>\n",
       "      <td>Pedestrian</td>\n",
       "      <td>Westbound</td>\n",
       "      <td>2.0</td>\n",
       "    </tr>\n",
       "    <tr>\n",
       "      <th>2</th>\n",
       "      <td>3009</td>\n",
       "      <td>3</td>\n",
       "      <td>HWY 49 &amp; Atwood Rd</td>\n",
       "      <td>2024</td>\n",
       "      <td>Jan</td>\n",
       "      <td>Monday</td>\n",
       "      <td>Weekday</td>\n",
       "      <td>2024-01-01 02:00:00</td>\n",
       "      <td>2 AM</td>\n",
       "      <td>Pedestrian</td>\n",
       "      <td>Westbound</td>\n",
       "      <td>0.0</td>\n",
       "    </tr>\n",
       "    <tr>\n",
       "      <th>3</th>\n",
       "      <td>3009</td>\n",
       "      <td>3</td>\n",
       "      <td>HWY 49 &amp; Atwood Rd</td>\n",
       "      <td>2024</td>\n",
       "      <td>Jan</td>\n",
       "      <td>Monday</td>\n",
       "      <td>Weekday</td>\n",
       "      <td>2024-01-01 03:00:00</td>\n",
       "      <td>3 AM</td>\n",
       "      <td>Pedestrian</td>\n",
       "      <td>Westbound</td>\n",
       "      <td>0.0</td>\n",
       "    </tr>\n",
       "    <tr>\n",
       "      <th>4</th>\n",
       "      <td>3009</td>\n",
       "      <td>3</td>\n",
       "      <td>HWY 49 &amp; Atwood Rd</td>\n",
       "      <td>2024</td>\n",
       "      <td>Jan</td>\n",
       "      <td>Monday</td>\n",
       "      <td>Weekday</td>\n",
       "      <td>2024-01-01 04:00:00</td>\n",
       "      <td>4 AM</td>\n",
       "      <td>Pedestrian</td>\n",
       "      <td>Westbound</td>\n",
       "      <td>0.0</td>\n",
       "    </tr>\n",
       "  </tbody>\n",
       "</table>\n",
       "</div>"
      ],
      "text/plain": [
       "   Loc_id  District        Intersection  Year Month     Day Weekday_Type  \\\n",
       "0    3009         3  HWY 49 & Atwood Rd  2024   Jan  Monday      Weekday   \n",
       "1    3009         3  HWY 49 & Atwood Rd  2024   Jan  Monday      Weekday   \n",
       "2    3009         3  HWY 49 & Atwood Rd  2024   Jan  Monday      Weekday   \n",
       "3    3009         3  HWY 49 & Atwood Rd  2024   Jan  Monday      Weekday   \n",
       "4    3009         3  HWY 49 & Atwood Rd  2024   Jan  Monday      Weekday   \n",
       "\n",
       "                 Date   Hour        Mode  Direction  Count  \n",
       "0 2024-01-01 00:00:00  12 AM  Pedestrian  Westbound    1.0  \n",
       "1 2024-01-01 01:00:00   1 AM  Pedestrian  Westbound    2.0  \n",
       "2 2024-01-01 02:00:00   2 AM  Pedestrian  Westbound    0.0  \n",
       "3 2024-01-01 03:00:00   3 AM  Pedestrian  Westbound    0.0  \n",
       "4 2024-01-01 04:00:00   4 AM  Pedestrian  Westbound    0.0  "
      ]
     },
     "execution_count": 10,
     "metadata": {},
     "output_type": "execute_result"
    }
   ],
   "source": [
    "# Now we will get the year, month, day, weekday and weekend status and also hour from data columns\n",
    "# make sure the date is in date format to extract the temporal variable\n",
    "com_df2['Date'] = pd.to_datetime(com_df2['Date'], format=\"%m/%d/%Y %H:%M\")\n",
    "\n",
    "# Extract year, month, day\n",
    "com_df2['Year'] = com_df2['Date'].dt.year\n",
    "com_df2['Month'] = com_df2['Date'].dt.strftime('%b') \n",
    "com_df2['Day'] = com_df2['Date'].dt.day_name()\n",
    "\n",
    "# Extract weekday name and check if it's a weekend\n",
    "com_df2['Weekday_Type'] = com_df2['Day'].apply(lambda x: \"Weekend\" if x in ['Saturday', 'Sunday'] else \"Weekday\")\n",
    "\n",
    "# Extract hour and AM/PM\n",
    "com_df2['Hour'] = com_df2['Date'].dt.strftime('%I %p').str.lstrip('0')\n",
    "com_df2['District']=3\n",
    "com_df2['Mode']=\"Pedestrian\"\n",
    "com_df3=com_df2[['Loc_id','District','Intersection','Year', 'Month',\n",
    "       'Day','Weekday_Type', 'Date','Hour','Mode','Direction','Count']]\n",
    "com_df3.head()"
   ]
  },
  {
   "cell_type": "code",
   "execution_count": 11,
   "id": "f6f39517-aa03-42e3-a756-b0a2250e75e1",
   "metadata": {},
   "outputs": [
    {
     "data": {
      "text/plain": [
       "(854107, 12)"
      ]
     },
     "execution_count": 11,
     "metadata": {},
     "output_type": "execute_result"
    }
   ],
   "source": [
    "com_df3.shape"
   ]
  },
  {
   "cell_type": "code",
   "execution_count": 12,
   "id": "9f9ab3e0-c8be-4db3-aacd-215acdca8a10",
   "metadata": {},
   "outputs": [
    {
     "data": {
      "text/plain": [
       "(850219, 12)"
      ]
     },
     "execution_count": 12,
     "metadata": {},
     "output_type": "execute_result"
    }
   ],
   "source": [
    "# Check the duplicate values and drop it\n",
    "com_df4=com_df3.drop_duplicates(subset=['Loc_id','District','Intersection','Year', 'Month',\n",
    "       'Day','Weekday_Type','Date', 'Hour','Mode','Direction','Count'])\n",
    "com_df4.shape"
   ]
  },
  {
   "cell_type": "code",
   "execution_count": 13,
   "id": "f7caa861-c34d-415c-aa44-e90a9574e478",
   "metadata": {},
   "outputs": [
    {
     "data": {
      "text/plain": [
       "array(['HWY 49 & Atwood Rd', 'HWY 49 & Bell Rd', 'HWY 49 & Dry Creek Rd',\n",
       "       'HWY 49 & Edgewood Rd', 'HWY 49 & Education St',\n",
       "       'HWY 49 & Elm Ave/Fulweiler Ave', 'HWY 49 & I80 EB off Ramp',\n",
       "       'HWY 49 & Locksley Ln', 'HWY 49 & Luther Rd',\n",
       "       'HWY 49 & Marguerite Mile Rd', 'HWY 49 & New Airport Rd',\n",
       "       'HWY 49 & Palm Ave', 'HWY 49 & Quartz Dr', 'HWY 49 & Sawyer St',\n",
       "       'HWY 49 & Shale Ridge Rd', 'HWY 49 & Willow Creek Dr',\n",
       "       'HWY 50 & Bedford Ave', 'HWY 50 & Canal St', 'HWY 50 & Spring St'],\n",
       "      dtype=object)"
      ]
     },
     "execution_count": 13,
     "metadata": {},
     "output_type": "execute_result"
    }
   ],
   "source": [
    "com_df4.Intersection.unique()"
   ]
  },
  {
   "cell_type": "code",
   "execution_count": 14,
   "id": "e7054cef-453e-4d0f-89a0-7aaa4fd40287",
   "metadata": {},
   "outputs": [
    {
     "data": {
      "text/plain": [
       "array(['Westbound', 'Southbound', 'Northbound', 'Eastbound'], dtype=object)"
      ]
     },
     "execution_count": 14,
     "metadata": {},
     "output_type": "execute_result"
    }
   ],
   "source": [
    "com_df4.Direction.unique()"
   ]
  },
  {
   "cell_type": "code",
   "execution_count": 15,
   "id": "1d9ff44c-29b4-4774-8a57-e4b894237291",
   "metadata": {},
   "outputs": [],
   "source": [
    "# Save the file\n",
    "com_df4.to_csv(('Z:/AT Data/Tableau Database/Archive/For Mintu/D3/output/combined_ped_data_with_desc.csv'), index=False)"
   ]
  },
  {
   "cell_type": "markdown",
   "id": "68d5cb20-8896-41de-be95-66e72762a0c1",
   "metadata": {},
   "source": [
    "# end of the script"
   ]
  }
 ],
 "metadata": {
  "kernelspec": {
   "display_name": "geo_env",
   "language": "python",
   "name": "geo_env"
  },
  "language_info": {
   "codemirror_mode": {
    "name": "ipython",
    "version": 3
   },
   "file_extension": ".py",
   "mimetype": "text/x-python",
   "name": "python",
   "nbconvert_exporter": "python",
   "pygments_lexer": "ipython3",
   "version": "3.12.5"
  },
  "widgets": {
   "application/vnd.jupyter.widget-state+json": {
    "state": {},
    "version_major": 2,
    "version_minor": 0
   }
  }
 },
 "nbformat": 4,
 "nbformat_minor": 5
}
